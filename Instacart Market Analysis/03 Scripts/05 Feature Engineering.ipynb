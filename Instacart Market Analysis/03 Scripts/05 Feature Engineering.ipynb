{
 "cells": [
  {
   "cell_type": "markdown",
   "id": "ceed60b8-720e-4565-b4ac-cb6113caac6a",
   "metadata": {},
   "source": [
    "### Exercise 4.7 Deriving New Variables"
   ]
  },
  {
   "cell_type": "code",
   "execution_count": 8,
   "id": "898cba52-881a-4494-ad9d-275349e87293",
   "metadata": {},
   "outputs": [],
   "source": [
    "import pandas as pd\n",
    "import numpy as np\n",
    "import os"
   ]
  },
  {
   "cell_type": "code",
   "execution_count": 5,
   "id": "6732653b-32c7-42fe-8238-8056da820e2f",
   "metadata": {},
   "outputs": [],
   "source": [
    "project_path = r'C:\\Users\\cneva\\06-2024 Instacart Basket Analysis'\n",
    "df_ords_prods = pd.read_pickle(os.path.join(project_path,'02 Data', 'Prepared Data', 'orders_and_products_merged_2.pkl'))"
   ]
  },
  {
   "cell_type": "code",
   "execution_count": 12,
   "id": "3391e73c-0845-4a1c-b8b5-b7c056d94fe2",
   "metadata": {},
   "outputs": [
    {
     "data": {
      "text/plain": [
       "(32404859, 14)"
      ]
     },
     "execution_count": 12,
     "metadata": {},
     "output_type": "execute_result"
    }
   ],
   "source": [
    "df_ords_prods.shape"
   ]
  },
  {
   "cell_type": "code",
   "execution_count": 14,
   "id": "e624fe80-b99a-4fd0-87ea-dbad0a9c3ffb",
   "metadata": {},
   "outputs": [],
   "source": [
    "df_ords_prods_short = df_ords_prods[:1000000]"
   ]
  },
  {
   "cell_type": "code",
   "execution_count": 16,
   "id": "4ae97675-995f-49e0-a0f9-1029c3074d10",
   "metadata": {},
   "outputs": [
    {
     "data": {
      "text/plain": [
       "(1000000, 14)"
      ]
     },
     "execution_count": 16,
     "metadata": {},
     "output_type": "execute_result"
    }
   ],
   "source": [
    "df_ords_prods_short.shape"
   ]
  },
  {
   "cell_type": "markdown",
   "id": "d27ba1ea-2043-4807-95f0-628be0286905",
   "metadata": {},
   "source": [
    "#### If-Statements with User-Defined Functions"
   ]
  },
  {
   "cell_type": "code",
   "execution_count": 82,
   "id": "b72401dc-aa2d-43b5-882b-f206639e3fdf",
   "metadata": {},
   "outputs": [],
   "source": [
    "# Define a function using if statements that categorizes products by the price \n",
    "def price_label(row):\n",
    "    if row['prices'] <= 5:\n",
    "        return 'Low-range product'\n",
    "    elif (row['prices'] > 5) and (row['prices'] <= 15):\n",
    "        return 'Mid-range product'\n",
    "    elif row['prices'] > 15:\n",
    "        return 'High-range product'\n",
    "    else: return 'Not enough data'"
   ]
  },
  {
   "cell_type": "code",
   "execution_count": 84,
   "id": "59a6c1af-a4bc-4728-8e8c-ebb8f0cf1103",
   "metadata": {},
   "outputs": [
    {
     "name": "stderr",
     "output_type": "stream",
     "text": [
      "C:\\Users\\cneva\\AppData\\Local\\Temp\\ipykernel_11184\\2264954336.py:3: SettingWithCopyWarning: \n",
      "A value is trying to be set on a copy of a slice from a DataFrame.\n",
      "Try using .loc[row_indexer,col_indexer] = value instead\n",
      "\n",
      "See the caveats in the documentation: https://pandas.pydata.org/pandas-docs/stable/user_guide/indexing.html#returning-a-view-versus-a-copy\n",
      "  df_ords_prods_short['price_range'] = df_ords_prods_short.apply(price_label, axis = 1)\n"
     ]
    }
   ],
   "source": [
    "# Apply the price_range function on newly created column price_range\n",
    "# axis = 1 = apply function on all rows, axis = 0 = apply function on all columns\n",
    "df_ords_prods_short['price_range'] = df_ords_prods_short.apply(price_label, axis = 1)"
   ]
  },
  {
   "cell_type": "code",
   "execution_count": 85,
   "id": "7582ef8a-5cb5-450f-911a-963e1d2bd812",
   "metadata": {},
   "outputs": [
    {
     "data": {
      "text/html": [
       "<div>\n",
       "<style scoped>\n",
       "    .dataframe tbody tr th:only-of-type {\n",
       "        vertical-align: middle;\n",
       "    }\n",
       "\n",
       "    .dataframe tbody tr th {\n",
       "        vertical-align: top;\n",
       "    }\n",
       "\n",
       "    .dataframe thead th {\n",
       "        text-align: right;\n",
       "    }\n",
       "</style>\n",
       "<table border=\"1\" class=\"dataframe\">\n",
       "  <thead>\n",
       "    <tr style=\"text-align: right;\">\n",
       "      <th></th>\n",
       "      <th>order_id</th>\n",
       "      <th>user_id</th>\n",
       "      <th>order_number</th>\n",
       "      <th>orders_day_of_week</th>\n",
       "      <th>order_hour_of_day</th>\n",
       "      <th>days_since_prior_order</th>\n",
       "      <th>first_order</th>\n",
       "      <th>product_id</th>\n",
       "      <th>add_to_cart_order</th>\n",
       "      <th>reordered</th>\n",
       "      <th>product_name</th>\n",
       "      <th>aisle_id</th>\n",
       "      <th>department_id</th>\n",
       "      <th>prices</th>\n",
       "      <th>price_range</th>\n",
       "      <th>price_range_loc</th>\n",
       "    </tr>\n",
       "  </thead>\n",
       "  <tbody>\n",
       "    <tr>\n",
       "      <th>0</th>\n",
       "      <td>2539329</td>\n",
       "      <td>1</td>\n",
       "      <td>1</td>\n",
       "      <td>2</td>\n",
       "      <td>8</td>\n",
       "      <td>NaN</td>\n",
       "      <td>True</td>\n",
       "      <td>196</td>\n",
       "      <td>1</td>\n",
       "      <td>0</td>\n",
       "      <td>Soda</td>\n",
       "      <td>77</td>\n",
       "      <td>7</td>\n",
       "      <td>9.0</td>\n",
       "      <td>Mid-range product</td>\n",
       "      <td>Mid-range product</td>\n",
       "    </tr>\n",
       "    <tr>\n",
       "      <th>1</th>\n",
       "      <td>2539329</td>\n",
       "      <td>1</td>\n",
       "      <td>1</td>\n",
       "      <td>2</td>\n",
       "      <td>8</td>\n",
       "      <td>NaN</td>\n",
       "      <td>True</td>\n",
       "      <td>14084</td>\n",
       "      <td>2</td>\n",
       "      <td>0</td>\n",
       "      <td>Organic Unsweetened Vanilla Almond Milk</td>\n",
       "      <td>91</td>\n",
       "      <td>16</td>\n",
       "      <td>12.5</td>\n",
       "      <td>Mid-range product</td>\n",
       "      <td>Mid-range product</td>\n",
       "    </tr>\n",
       "    <tr>\n",
       "      <th>2</th>\n",
       "      <td>2539329</td>\n",
       "      <td>1</td>\n",
       "      <td>1</td>\n",
       "      <td>2</td>\n",
       "      <td>8</td>\n",
       "      <td>NaN</td>\n",
       "      <td>True</td>\n",
       "      <td>12427</td>\n",
       "      <td>3</td>\n",
       "      <td>0</td>\n",
       "      <td>Original Beef Jerky</td>\n",
       "      <td>23</td>\n",
       "      <td>19</td>\n",
       "      <td>4.4</td>\n",
       "      <td>Low-range product</td>\n",
       "      <td>Low-range product</td>\n",
       "    </tr>\n",
       "    <tr>\n",
       "      <th>3</th>\n",
       "      <td>2539329</td>\n",
       "      <td>1</td>\n",
       "      <td>1</td>\n",
       "      <td>2</td>\n",
       "      <td>8</td>\n",
       "      <td>NaN</td>\n",
       "      <td>True</td>\n",
       "      <td>26088</td>\n",
       "      <td>4</td>\n",
       "      <td>0</td>\n",
       "      <td>Aged White Cheddar Popcorn</td>\n",
       "      <td>23</td>\n",
       "      <td>19</td>\n",
       "      <td>4.7</td>\n",
       "      <td>Low-range product</td>\n",
       "      <td>Low-range product</td>\n",
       "    </tr>\n",
       "    <tr>\n",
       "      <th>4</th>\n",
       "      <td>2539329</td>\n",
       "      <td>1</td>\n",
       "      <td>1</td>\n",
       "      <td>2</td>\n",
       "      <td>8</td>\n",
       "      <td>NaN</td>\n",
       "      <td>True</td>\n",
       "      <td>26405</td>\n",
       "      <td>5</td>\n",
       "      <td>0</td>\n",
       "      <td>XL Pick-A-Size Paper Towel Rolls</td>\n",
       "      <td>54</td>\n",
       "      <td>17</td>\n",
       "      <td>1.0</td>\n",
       "      <td>Low-range product</td>\n",
       "      <td>Low-range product</td>\n",
       "    </tr>\n",
       "  </tbody>\n",
       "</table>\n",
       "</div>"
      ],
      "text/plain": [
       "   order_id  user_id  order_number  orders_day_of_week  order_hour_of_day  \\\n",
       "0   2539329        1             1                   2                  8   \n",
       "1   2539329        1             1                   2                  8   \n",
       "2   2539329        1             1                   2                  8   \n",
       "3   2539329        1             1                   2                  8   \n",
       "4   2539329        1             1                   2                  8   \n",
       "\n",
       "   days_since_prior_order  first_order  product_id  add_to_cart_order  \\\n",
       "0                     NaN         True         196                  1   \n",
       "1                     NaN         True       14084                  2   \n",
       "2                     NaN         True       12427                  3   \n",
       "3                     NaN         True       26088                  4   \n",
       "4                     NaN         True       26405                  5   \n",
       "\n",
       "   reordered                             product_name  aisle_id  \\\n",
       "0          0                                     Soda        77   \n",
       "1          0  Organic Unsweetened Vanilla Almond Milk        91   \n",
       "2          0                      Original Beef Jerky        23   \n",
       "3          0               Aged White Cheddar Popcorn        23   \n",
       "4          0         XL Pick-A-Size Paper Towel Rolls        54   \n",
       "\n",
       "   department_id  prices        price_range    price_range_loc  \n",
       "0              7     9.0  Mid-range product  Mid-range product  \n",
       "1             16    12.5  Mid-range product  Mid-range product  \n",
       "2             19     4.4  Low-range product  Low-range product  \n",
       "3             19     4.7  Low-range product  Low-range product  \n",
       "4             17     1.0  Low-range product  Low-range product  "
      ]
     },
     "execution_count": 85,
     "metadata": {},
     "output_type": "execute_result"
    }
   ],
   "source": [
    "df_ords_prods_short.head()"
   ]
  },
  {
   "cell_type": "code",
   "execution_count": 37,
   "id": "04885cd5-9277-44f6-b0f3-cedd817a09bd",
   "metadata": {},
   "outputs": [
    {
     "data": {
      "text/plain": [
       "price_range\n",
       "Mid-range product    685608\n",
       "Low-range product    314392\n",
       "Name: count, dtype: int64"
      ]
     },
     "execution_count": 37,
     "metadata": {},
     "output_type": "execute_result"
    }
   ],
   "source": [
    "df_ords_prods_short['price_range'].value_counts(dropna = False)"
   ]
  },
  {
   "cell_type": "markdown",
   "id": "6b0611b3-3fc8-4a0a-86a9-227204ba7f17",
   "metadata": {},
   "source": [
    "#### If-Statements with the loc() Function "
   ]
  },
  {
   "cell_type": "code",
   "execution_count": 125,
   "id": "a2d1c2cf-7cac-4426-9208-031aa2d1eacf",
   "metadata": {},
   "outputs": [],
   "source": [
    "df_ords_prods_short.loc[df_ords_prods['prices'] > 15, 'price_range_loc'] = 'High-range product'"
   ]
  },
  {
   "cell_type": "code",
   "execution_count": 129,
   "id": "34f774bd-70dc-400a-a05b-0ba135da8f31",
   "metadata": {},
   "outputs": [],
   "source": [
    "df_ords_prods_short.loc[(df_ords_prods['prices'] <= 15) & (df_ords_prods['prices'] > 5) , 'price_range_loc'] = 'Mid-range product'"
   ]
  },
  {
   "cell_type": "code",
   "execution_count": 133,
   "id": "ffdd90e7-3376-4da4-a850-ee3ad8fd633f",
   "metadata": {},
   "outputs": [],
   "source": [
    "df_ords_prods_short.loc[df_ords_prods['prices'] <= 5, 'price_range_loc'] = 'Low-range product'"
   ]
  },
  {
   "cell_type": "code",
   "execution_count": 121,
   "id": "dbd4a761-3a61-4d96-b231-529acc39cd78",
   "metadata": {},
   "outputs": [
    {
     "data": {
      "text/plain": [
       "price_range_loc\n",
       "Mid-range product    685608\n",
       "Low-range product    314392\n",
       "Name: count, dtype: int64"
      ]
     },
     "execution_count": 121,
     "metadata": {},
     "output_type": "execute_result"
    }
   ],
   "source": [
    "df_ords_prods_short['price_range_loc'].value_counts(dropna = False)"
   ]
  },
  {
   "cell_type": "markdown",
   "id": "90309eb4-92c8-464d-afee-1efe9d5616dd",
   "metadata": {},
   "source": [
    "##### If-Statements with For-Loops"
   ]
  },
  {
   "cell_type": "code",
   "execution_count": 139,
   "id": "e510c09e-17f2-4303-9c3c-7e009480ba60",
   "metadata": {},
   "outputs": [],
   "source": [
    "# create empty list to store results of the for look\n",
    "result = []\n",
    "\n",
    "# loop through each value/row in 'prices' and store result in list\n",
    "for x in df_ords_prods_short['prices']:\n",
    "    if x <= 5:\n",
    "        result.append('Low-range product')\n",
    "    elif x <= 15 and x > 5:\n",
    "        result.append('Mid-range product')\n",
    "    elif x > 15:\n",
    "        result.append('High-range product')\n",
    "    else:\n",
    "        'Not enough data'"
   ]
  },
  {
   "cell_type": "code",
   "execution_count": 141,
   "id": "73418531-2be3-4457-bd25-b8a7f76f2662",
   "metadata": {},
   "outputs": [
    {
     "name": "stderr",
     "output_type": "stream",
     "text": [
      "C:\\Users\\cneva\\AppData\\Local\\Temp\\ipykernel_11184\\2074682949.py:2: SettingWithCopyWarning: \n",
      "A value is trying to be set on a copy of a slice from a DataFrame.\n",
      "Try using .loc[row_indexer,col_indexer] = value instead\n",
      "\n",
      "See the caveats in the documentation: https://pandas.pydata.org/pandas-docs/stable/user_guide/indexing.html#returning-a-view-versus-a-copy\n",
      "  df_ords_prods_short['price_range_for'] = result\n"
     ]
    }
   ],
   "source": [
    "# create new column using the result list\n",
    "df_ords_prods_short['price_range_for'] = result"
   ]
  },
  {
   "cell_type": "markdown",
   "id": "30715681-a473-43d1-b4ac-aee0df638308",
   "metadata": {},
   "source": [
    "#### 4.7 Task"
   ]
  },
  {
   "cell_type": "markdown",
   "id": "cacea587-0e79-43c7-be7c-980f2ec030fc",
   "metadata": {},
   "source": [
    "##### 1.  If you haven’t done so already, complete the instructions in the Exercise for creating the “price_label” and “busiest_day” columns."
   ]
  },
  {
   "cell_type": "code",
   "execution_count": 189,
   "id": "0193ef71-a2b3-4ac3-b4d4-d25b2d0fa663",
   "metadata": {},
   "outputs": [],
   "source": [
    "# create price categories using .loc\n",
    "df_ords_prods.loc[df_ords_prods['prices'] > 15, 'price_range_loc'] = 'High-range product'"
   ]
  },
  {
   "cell_type": "code",
   "execution_count": 179,
   "id": "cf73c02b-31e0-412d-b5f8-11abf4bbbfa8",
   "metadata": {},
   "outputs": [],
   "source": [
    "df_ords_prods.loc[(df_ords_prods['prices'] <= 15) & (df_ords_prods['prices'] > 5) , 'price_range_loc'] = 'Mid-range product'"
   ]
  },
  {
   "cell_type": "code",
   "execution_count": 181,
   "id": "b94f0fcf-6145-45f1-aecc-2f74c6be85e0",
   "metadata": {},
   "outputs": [],
   "source": [
    "df_ords_prods.loc[df_ords_prods['prices'] <= 5, 'price_range_loc'] = 'Low-range product'"
   ]
  },
  {
   "cell_type": "code",
   "execution_count": 185,
   "id": "7a636c4f-1e84-4982-bcfb-fb2713bcc296",
   "metadata": {},
   "outputs": [
    {
     "data": {
      "text/plain": [
       "price_range_loc\n",
       "Mid-range product     21860860\n",
       "Low-range product     10126321\n",
       "High-range product      417678\n",
       "Name: count, dtype: int64"
      ]
     },
     "execution_count": 185,
     "metadata": {},
     "output_type": "execute_result"
    }
   ],
   "source": [
    "df_ords_prods['price_range_loc'].value_counts(dropna = False)"
   ]
  },
  {
   "cell_type": "code",
   "execution_count": 191,
   "id": "6daf428b-3530-434a-9c19-c6383a5ed81f",
   "metadata": {},
   "outputs": [
    {
     "data": {
      "text/plain": [
       "orders_day_of_week\n",
       "0    6204182\n",
       "1    5660230\n",
       "6    4496490\n",
       "2    4213830\n",
       "5    4205791\n",
       "3    3840534\n",
       "4    3783802\n",
       "Name: count, dtype: int64"
      ]
     },
     "execution_count": 191,
     "metadata": {},
     "output_type": "execute_result"
    }
   ],
   "source": [
    "# create busiest_day categories using for loop\n",
    "df_ords_prods['orders_day_of_week'].value_counts(dropna = False)"
   ]
  },
  {
   "cell_type": "code",
   "execution_count": 197,
   "id": "4e63b951-c457-42e4-a4ea-90b3453d85f4",
   "metadata": {},
   "outputs": [],
   "source": [
    "# create list to store results\n",
    "busy_result = []\n",
    "\n",
    "# loop through orders_day_of_week and assign busy category\n",
    "for x in df_ords_prods['orders_day_of_week']:\n",
    "    if x == 0:\n",
    "        busy_result.append('Busiest day')\n",
    "    elif x == 4:\n",
    "        busy_result.append('Least busy')\n",
    "    else:\n",
    "        busy_result.append('Regularly busy')"
   ]
  },
  {
   "cell_type": "code",
   "execution_count": 199,
   "id": "4d8d0c9b-769b-4479-91ba-240ab7eda628",
   "metadata": {},
   "outputs": [],
   "source": [
    "# create busy column using list\n",
    "df_ords_prods['busiest_day'] = busy_result"
   ]
  },
  {
   "cell_type": "code",
   "execution_count": 201,
   "id": "f00b9d68-8861-4213-8b72-1b729c60801a",
   "metadata": {},
   "outputs": [
    {
     "data": {
      "text/plain": [
       "busiest_day\n",
       "Regularly busy    22416875\n",
       "Busiest day        6204182\n",
       "Least busy         3783802\n",
       "Name: count, dtype: int64"
      ]
     },
     "execution_count": 201,
     "metadata": {},
     "output_type": "execute_result"
    }
   ],
   "source": [
    "df_ords_prods['busiest_day'].value_counts(dropna = False)"
   ]
  },
  {
   "cell_type": "markdown",
   "id": "5bb73c3d-e575-455b-96c2-733ca51e0563",
   "metadata": {},
   "source": [
    "##### 2.  Suppose your clients have changed their minds about the labels you created in your “busiest_day” column. Now, they want “Busiest day” to become “Busiest days” (plural). This label should correspond with the two busiest days of the week as opposed to the single busiest day. At the same time, they’d also like to know the two slowest days. Create a new column for this using a suitable method."
   ]
  },
  {
   "cell_type": "code",
   "execution_count": 231,
   "id": "0495b6b6-55d4-4415-91f8-b1d425da3ef0",
   "metadata": {},
   "outputs": [],
   "source": [
    "# create list to store results\n",
    "busy_result_2 = []\n",
    "\n",
    "# loop through orders_day_of_week and assign busy category\n",
    "for x in df_ords_prods['orders_day_of_week']:\n",
    "    if x == 0 or x == 1:\n",
    "        busy_result_2.append('Busiest days')\n",
    "    elif x == 4 or x == 3:\n",
    "        busy_result_2.append('Least busy days')\n",
    "    else:\n",
    "        busy_result_2.append('Regularly busy days')"
   ]
  },
  {
   "cell_type": "code",
   "execution_count": 232,
   "id": "38bde440-659c-40e1-ae28-06275deb2a38",
   "metadata": {},
   "outputs": [],
   "source": [
    "# create busy column using list\n",
    "df_ords_prods['busiest_day_2'] = busy_result_2"
   ]
  },
  {
   "cell_type": "markdown",
   "id": "5649c499-1acb-4196-b170-988ac5d00b20",
   "metadata": {},
   "source": [
    "##### 3. Check the values of this new column for accuracy. Note any observations in markdown format.\n"
   ]
  },
  {
   "cell_type": "code",
   "execution_count": 237,
   "id": "12d5de85-613d-462e-8f4a-6845a9815371",
   "metadata": {},
   "outputs": [
    {
     "data": {
      "text/plain": [
       "busiest_day_2\n",
       "Regularly busy days    12916111\n",
       "Busiest days           11864412\n",
       "Least busy days         7624336\n",
       "Name: count, dtype: int64"
      ]
     },
     "execution_count": 237,
     "metadata": {},
     "output_type": "execute_result"
    }
   ],
   "source": [
    "df_ords_prods['busiest_day_2'].value_counts(dropna = False)"
   ]
  },
  {
   "cell_type": "markdown",
   "id": "120960da-6640-4786-b077-92a3be7bf39b",
   "metadata": {},
   "source": [
    "#####   - The distribution between the buckets are more even because the number of days within each category has been spread; 1 day, 1 day, 5 days vs 2 days, 2 days, 3 days. We expect the Regularly busy days to be the most because it's 3 days.  And we expect the Busiest days to be more than least busy days because obviously there would be more orders therefore more observations."
   ]
  },
  {
   "cell_type": "markdown",
   "id": "ac686612-2ba5-4d1e-b19b-35818deacf6c",
   "metadata": {},
   "source": [
    "##### 4. When too many users make Instacart orders at the same time, the app freezes. The senior technical officer at Instacart wants you to identify the busiest hours of the day. Rather than by hour, they want periods of time labeled “Most orders,” “Average orders,” and “Fewest orders.” Create a new column containing these labels called “busiest_period_of_day.”"
   ]
  },
  {
   "cell_type": "code",
   "execution_count": 245,
   "id": "64efe9c3-76e5-447e-9080-5d10efa0d187",
   "metadata": {},
   "outputs": [
    {
     "data": {
      "text/plain": [
       "order_hour_of_day\n",
       "10    2761760\n",
       "11    2736140\n",
       "14    2689136\n",
       "15    2662144\n",
       "13    2660954\n",
       "12    2618532\n",
       "16    2535202\n",
       "9     2454203\n",
       "17    2087654\n",
       "8     1718118\n",
       "18    1636502\n",
       "19    1258305\n",
       "20     976156\n",
       "7      891054\n",
       "21     795637\n",
       "22     634225\n",
       "23     402316\n",
       "6      290493\n",
       "0      218769\n",
       "1      115700\n",
       "5       87961\n",
       "2       69375\n",
       "4       53242\n",
       "3       51281\n",
       "Name: count, dtype: int64"
      ]
     },
     "execution_count": 245,
     "metadata": {},
     "output_type": "execute_result"
    }
   ],
   "source": [
    "# identify the hours when most  busy\n",
    "df_ords_prods['order_hour_of_day'].value_counts(dropna = False)"
   ]
  },
  {
   "cell_type": "markdown",
   "id": "2bf1dd2e-5f9a-4513-a81c-e6e248d7f97d",
   "metadata": {},
   "source": [
    "###### 8-hour buckets: \n",
    "###### Most orders -    8 - 16\n",
    "###### Average orders -  17 - 23\n",
    "###### Fewest orders -  0 - 7"
   ]
  },
  {
   "cell_type": "code",
   "execution_count": 258,
   "id": "e76cbc54-7c8f-4be2-a6b5-24f18abd4217",
   "metadata": {},
   "outputs": [
    {
     "data": {
      "text/plain": [
       "(1777875, 17)"
      ]
     },
     "execution_count": 258,
     "metadata": {},
     "output_type": "execute_result"
    }
   ],
   "source": [
    "# check if buckets make sense\n",
    "df_ords_prods[(df_ords_prods['order_hour_of_day'] >= 0) & (df_ords_prods['order_hour_of_day'] < 8)].shape"
   ]
  },
  {
   "cell_type": "code",
   "execution_count": 260,
   "id": "95f6f862-701e-410e-95fc-6a1139d8053d",
   "metadata": {},
   "outputs": [
    {
     "data": {
      "text/plain": [
       "(22836189, 17)"
      ]
     },
     "execution_count": 260,
     "metadata": {},
     "output_type": "execute_result"
    }
   ],
   "source": [
    "df_ords_prods[(df_ords_prods['order_hour_of_day'] >= 8) & (df_ords_prods['order_hour_of_day'] < 17)].shape"
   ]
  },
  {
   "cell_type": "code",
   "execution_count": 262,
   "id": "70597b20-0801-40ab-b8ce-9beaabb9d058",
   "metadata": {},
   "outputs": [
    {
     "data": {
      "text/plain": [
       "(7790795, 17)"
      ]
     },
     "execution_count": 262,
     "metadata": {},
     "output_type": "execute_result"
    }
   ],
   "source": [
    "df_ords_prods[(df_ords_prods['order_hour_of_day'] >= 17) & (df_ords_prods['order_hour_of_day'] < 24)].shape"
   ]
  },
  {
   "cell_type": "code",
   "execution_count": 264,
   "id": "1337916e-0864-41b8-9a07-db141d8cdc40",
   "metadata": {},
   "outputs": [],
   "source": [
    "# Most orders = order_hour_of_day >= 8, < 17\n",
    "df_ords_prods.loc[(df_ords_prods['order_hour_of_day'] >= 8) & (df_ords_prods['order_hour_of_day'] < 17) , 'busiest_period_of_day'] = 'Most orders'"
   ]
  },
  {
   "cell_type": "code",
   "execution_count": 266,
   "id": "5c8c8feb-9b0d-4425-9f29-9523defb5f95",
   "metadata": {},
   "outputs": [],
   "source": [
    "# Average orders = order_hour_of_day >= 17, < 24\n",
    "df_ords_prods.loc[(df_ords_prods['order_hour_of_day'] >= 17) & (df_ords_prods['order_hour_of_day'] < 24) , 'busiest_period_of_day'] = 'Average orders'"
   ]
  },
  {
   "cell_type": "code",
   "execution_count": 268,
   "id": "db7cc65a-3e11-4549-8c53-53f8ba77cec8",
   "metadata": {},
   "outputs": [],
   "source": [
    "# Fewest orders = order_hour_of_day >= 0, < 7\n",
    "df_ords_prods.loc[(df_ords_prods['order_hour_of_day'] >= 0) & (df_ords_prods['order_hour_of_day'] < 8) , 'busiest_period_of_day'] = 'Fewest orders'"
   ]
  },
  {
   "attachments": {},
   "cell_type": "markdown",
   "id": "da34f8c9-a051-45a1-b7d5-e3a4cf5549dd",
   "metadata": {},
   "source": [
    "##### 5. Print the frequency for this new column."
   ]
  },
  {
   "cell_type": "code",
   "execution_count": 274,
   "id": "51f714ac-b872-4428-b3c3-36a10f344330",
   "metadata": {},
   "outputs": [
    {
     "data": {
      "text/plain": [
       "busiest_period_of_day\n",
       "Most orders       22836189\n",
       "Average orders     7790795\n",
       "Fewest orders      1777875\n",
       "Name: count, dtype: int64"
      ]
     },
     "execution_count": 274,
     "metadata": {},
     "output_type": "execute_result"
    }
   ],
   "source": [
    "df_ords_prods['busiest_period_of_day'].value_counts(dropna = False)"
   ]
  },
  {
   "cell_type": "code",
   "execution_count": 287,
   "id": "ca3c6b42-97d9-46f4-ba52-111701f2fdef",
   "metadata": {},
   "outputs": [
    {
     "data": {
      "text/html": [
       "<div>\n",
       "<style scoped>\n",
       "    .dataframe tbody tr th:only-of-type {\n",
       "        vertical-align: middle;\n",
       "    }\n",
       "\n",
       "    .dataframe tbody tr th {\n",
       "        vertical-align: top;\n",
       "    }\n",
       "\n",
       "    .dataframe thead th {\n",
       "        text-align: right;\n",
       "    }\n",
       "</style>\n",
       "<table border=\"1\" class=\"dataframe\">\n",
       "  <thead>\n",
       "    <tr style=\"text-align: right;\">\n",
       "      <th></th>\n",
       "      <th>order_id</th>\n",
       "      <th>user_id</th>\n",
       "      <th>order_number</th>\n",
       "      <th>orders_day_of_week</th>\n",
       "      <th>order_hour_of_day</th>\n",
       "      <th>days_since_prior_order</th>\n",
       "      <th>first_order</th>\n",
       "      <th>product_id</th>\n",
       "      <th>add_to_cart_order</th>\n",
       "      <th>reordered</th>\n",
       "      <th>product_name</th>\n",
       "      <th>aisle_id</th>\n",
       "      <th>department_id</th>\n",
       "      <th>prices</th>\n",
       "      <th>price_range_loc</th>\n",
       "      <th>busiest_day</th>\n",
       "      <th>busiest_day_2</th>\n",
       "      <th>busiest_period_of_day</th>\n",
       "    </tr>\n",
       "  </thead>\n",
       "  <tbody>\n",
       "    <tr>\n",
       "      <th>0</th>\n",
       "      <td>2539329</td>\n",
       "      <td>1</td>\n",
       "      <td>1</td>\n",
       "      <td>2</td>\n",
       "      <td>8</td>\n",
       "      <td>NaN</td>\n",
       "      <td>True</td>\n",
       "      <td>196</td>\n",
       "      <td>1</td>\n",
       "      <td>0</td>\n",
       "      <td>Soda</td>\n",
       "      <td>77</td>\n",
       "      <td>7</td>\n",
       "      <td>9.0</td>\n",
       "      <td>Mid-range product</td>\n",
       "      <td>Regularly busy</td>\n",
       "      <td>Regularly busy days</td>\n",
       "      <td>Most orders</td>\n",
       "    </tr>\n",
       "  </tbody>\n",
       "</table>\n",
       "</div>"
      ],
      "text/plain": [
       "   order_id  user_id  order_number  orders_day_of_week  order_hour_of_day  \\\n",
       "0   2539329        1             1                   2                  8   \n",
       "\n",
       "   days_since_prior_order  first_order  product_id  add_to_cart_order  \\\n",
       "0                     NaN         True         196                  1   \n",
       "\n",
       "   reordered product_name  aisle_id  department_id  prices    price_range_loc  \\\n",
       "0          0         Soda        77              7     9.0  Mid-range product   \n",
       "\n",
       "      busiest_day        busiest_day_2 busiest_period_of_day  \n",
       "0  Regularly busy  Regularly busy days           Most orders  "
      ]
     },
     "execution_count": 287,
     "metadata": {},
     "output_type": "execute_result"
    }
   ],
   "source": [
    "df_ords_prods.head(1)"
   ]
  },
  {
   "cell_type": "markdown",
   "id": "d428cf88-9c6b-4524-811c-2011e2a4dfbf",
   "metadata": {},
   "source": [
    "##### 6.  Ensure your notebook is clean and structured and that your code is well commented."
   ]
  },
  {
   "cell_type": "code",
   "execution_count": 290,
   "id": "5c323654-3bd6-4440-9119-f3a4f4dd9f19",
   "metadata": {},
   "outputs": [],
   "source": [
    "df_ords_prods.to_pickle(os.path.join(project_path, '02 Data', 'Prepared Data', 'ords_prods_3.pkl'))"
   ]
  },
  {
   "cell_type": "markdown",
   "id": "152d5512-1c70-4b67-8ee7-5ab2a9e95193",
   "metadata": {},
   "source": [
    "##### 7.  Export your dataframe as a pickle file (since you added new columns) and store it correctly in your “Prepared Data” folder."
   ]
  },
  {
   "cell_type": "markdown",
   "id": "b2415680-f32a-4deb-bbb1-e9e8ba1b07ab",
   "metadata": {},
   "source": [
    "##### 8.  Save your notebook and submit it to your tutor for review."
   ]
  },
  {
   "cell_type": "code",
   "execution_count": null,
   "id": "a2cfdab7-3af8-4b3a-b87e-acabf6ab51b0",
   "metadata": {},
   "outputs": [],
   "source": []
  }
 ],
 "metadata": {
  "kernelspec": {
   "display_name": "Python 3 (ipykernel)",
   "language": "python",
   "name": "python3"
  },
  "language_info": {
   "codemirror_mode": {
    "name": "ipython",
    "version": 3
   },
   "file_extension": ".py",
   "mimetype": "text/x-python",
   "name": "python",
   "nbconvert_exporter": "python",
   "pygments_lexer": "ipython3",
   "version": "3.11.7"
  }
 },
 "nbformat": 4,
 "nbformat_minor": 5
}

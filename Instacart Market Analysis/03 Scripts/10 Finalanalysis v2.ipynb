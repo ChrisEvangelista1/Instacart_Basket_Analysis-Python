{
 "cells": [
  {
   "cell_type": "markdown",
   "id": "2836eb11-e0d2-437c-910c-431dd87cc4bc",
   "metadata": {},
   "source": [
    "## 1. Import data & libraries"
   ]
  },
  {
   "cell_type": "code",
   "execution_count": 2,
   "id": "180ab4f1-4c5e-4077-bb94-cc47ccd9dfe3",
   "metadata": {},
   "outputs": [],
   "source": [
    "import pandas as pd\n",
    "import numpy as np\n",
    "import os\n",
    "import matplotlib.pyplot as plt\n",
    "import seaborn as sns\n",
    "import scipy"
   ]
  },
  {
   "cell_type": "code",
   "execution_count": 3,
   "id": "12852596-957f-4b30-8c34-a5f7ebf39b22",
   "metadata": {},
   "outputs": [],
   "source": [
    "project_path = r'C:\\Users\\cneva\\06-2024 Instacart Basket Analysis'"
   ]
  },
  {
   "cell_type": "code",
   "execution_count": 4,
   "id": "cf29e88a-b7c5-4f38-a5b7-788d919a8bc0",
   "metadata": {},
   "outputs": [],
   "source": [
    "df = pd.read_pickle(os.path.join(project_path, '02 Data', 'Prepared Data', 'ords_prods_cust.pkl'))"
   ]
  },
  {
   "cell_type": "markdown",
   "id": "3963ed8d-ac1a-4571-86ab-1e1f1a8f1c1f",
   "metadata": {},
   "source": [
    "## 2. PII data consideration"
   ]
  },
  {
   "cell_type": "markdown",
   "id": "30ae336b-f416-419e-aeb1-21c9d57fa583",
   "metadata": {},
   "source": [
    "#### - *First and last name columns were dropped in the previous exercise*"
   ]
  },
  {
   "cell_type": "markdown",
   "id": "aa768cc8-1b70-48fd-a304-e9b571fd80ce",
   "metadata": {},
   "source": [
    "## 3. Regional segmentation"
   ]
  },
  {
   "cell_type": "markdown",
   "id": "193f1e79-5bc8-402b-b5c9-3f0de7f6e8e5",
   "metadata": {},
   "source": [
    "### Create region list"
   ]
  },
  {
   "cell_type": "code",
   "execution_count": 9,
   "id": "b027dfee-4ba9-47b6-a46d-e716138e9064",
   "metadata": {},
   "outputs": [],
   "source": [
    "region_northeast = [\n",
    "    'Maine',\n",
    "    'New Hampshire',\n",
    "    'Vermont',\n",
    "    'Massachusetts',\n",
    "    'Rhode Island',\n",
    "    'Connecticut',\n",
    "    'New York',\n",
    "    'Pennsylvania',\n",
    "    'New Jersey'\n",
    "]"
   ]
  },
  {
   "cell_type": "code",
   "execution_count": 10,
   "id": "e0789d64-08a0-4689-bd51-b0923fc1a3db",
   "metadata": {},
   "outputs": [],
   "source": [
    "region_midwest = [\n",
    "    'Wisconsin',\n",
    "    'Michigan',\n",
    "    'Illinois',\n",
    "    'Indiana',\n",
    "    'Ohio',\n",
    "    'North Dakota',\n",
    "    'South Dakota',\n",
    "    'Nebraska',\n",
    "    'Kansas',\n",
    "    'Minnesota',\n",
    "    'Iowa',\n",
    "    'Missouri'\n",
    "]"
   ]
  },
  {
   "cell_type": "code",
   "execution_count": 11,
   "id": "d99ee602-6974-4023-931d-5da38cb933f3",
   "metadata": {},
   "outputs": [],
   "source": [
    "region_south = [\n",
    "    'Delaware',\n",
    "    'Maryland',\n",
    "    'District of Columbia',\n",
    "    'Virginia',\n",
    "    'West Virginia',\n",
    "    'North Carolina',\n",
    "    'South Carolina',\n",
    "    'Georgia',\n",
    "    'Florida',\n",
    "    'Kentucky',\n",
    "    'Tennessee',\n",
    "    'Mississippi',\n",
    "    'Alabama',\n",
    "    'Oklahoma',\n",
    "    'Texas',\n",
    "    'Arkansas',\n",
    "    'Louisiana'\n",
    "]"
   ]
  },
  {
   "cell_type": "code",
   "execution_count": 12,
   "id": "67c37502-c4f6-4d76-a8cb-dd3beda62f48",
   "metadata": {},
   "outputs": [],
   "source": [
    "region_west = [\n",
    "    'Idaho',\n",
    "    'Montana',\n",
    "    'Wyoming',\n",
    "    'Nevada',\n",
    "    'Utah',\n",
    "    'Colorado',\n",
    "    'Arizona',\n",
    "    'New Mexico',\n",
    "    'Alaska',\n",
    "    'Washington',\n",
    "    'Oregon',\n",
    "    'California',\n",
    "    'Hawaii'\n",
    "]"
   ]
  },
  {
   "cell_type": "markdown",
   "id": "848b24c4-7394-4c64-b75a-6c28d474d6a9",
   "metadata": {},
   "source": [
    "### Create region column"
   ]
  },
  {
   "cell_type": "code",
   "execution_count": 14,
   "id": "73d74ab6-a88a-42a7-80ac-fec8192047cc",
   "metadata": {},
   "outputs": [],
   "source": [
    "df.loc[df['state'].isin(region_northeast), 'region'] = 'Northeast'"
   ]
  },
  {
   "cell_type": "code",
   "execution_count": 15,
   "id": "071afd72-97ef-455d-8a66-60c83222fcbb",
   "metadata": {},
   "outputs": [],
   "source": [
    "df.loc[df['state'].isin(region_midwest), 'region'] = 'Midwest'"
   ]
  },
  {
   "cell_type": "code",
   "execution_count": 16,
   "id": "2cabc0b1-bf0b-469a-9d41-dad8cb77ca6c",
   "metadata": {},
   "outputs": [],
   "source": [
    "df.loc[df['state'].isin(region_south), 'region'] = 'South'"
   ]
  },
  {
   "cell_type": "code",
   "execution_count": 17,
   "id": "7b3b1caa-6ebe-41da-a0a1-065c8a062b49",
   "metadata": {},
   "outputs": [],
   "source": [
    "df.loc[df['state'].isin(region_west), 'region'] = 'West'"
   ]
  },
  {
   "cell_type": "code",
   "execution_count": 18,
   "id": "9644e413-24bc-425f-82ff-65aa99198700",
   "metadata": {},
   "outputs": [
    {
     "data": {
      "text/plain": [
       "region\n",
       "South        10791885\n",
       "West          8292913\n",
       "Midwest       7597325\n",
       "Northeast     5722736\n",
       "Name: count, dtype: int64"
      ]
     },
     "execution_count": 18,
     "metadata": {},
     "output_type": "execute_result"
    }
   ],
   "source": [
    "df['region'].value_counts(dropna = False)"
   ]
  },
  {
   "cell_type": "markdown",
   "id": "4812861f-0dec-4973-bffa-fed253801180",
   "metadata": {},
   "source": [
    "### Spending habits by region "
   ]
  },
  {
   "cell_type": "code",
   "execution_count": 20,
   "id": "8057c535-2a4b-4e78-a39f-cf16c8a1feb1",
   "metadata": {},
   "outputs": [],
   "source": [
    "region_ct = pd.crosstab(df['region'], df['user_spender_type'], dropna = False)\n",
    "region_ct['High spender % of total'] = region_ct['High spender'] / (region_ct['High spender'] + region_ct['Low spender'])"
   ]
  },
  {
   "cell_type": "code",
   "execution_count": 21,
   "id": "0898a10b-ea56-4154-b728-aa7e467a6f43",
   "metadata": {},
   "outputs": [
    {
     "data": {
      "text/html": [
       "<div>\n",
       "<style scoped>\n",
       "    .dataframe tbody tr th:only-of-type {\n",
       "        vertical-align: middle;\n",
       "    }\n",
       "\n",
       "    .dataframe tbody tr th {\n",
       "        vertical-align: top;\n",
       "    }\n",
       "\n",
       "    .dataframe thead th {\n",
       "        text-align: right;\n",
       "    }\n",
       "</style>\n",
       "<table border=\"1\" class=\"dataframe\">\n",
       "  <thead>\n",
       "    <tr style=\"text-align: right;\">\n",
       "      <th>user_spender_type</th>\n",
       "      <th>High spender</th>\n",
       "      <th>Low spender</th>\n",
       "      <th>High spender % of total</th>\n",
       "    </tr>\n",
       "    <tr>\n",
       "      <th>region</th>\n",
       "      <th></th>\n",
       "      <th></th>\n",
       "      <th></th>\n",
       "    </tr>\n",
       "  </thead>\n",
       "  <tbody>\n",
       "    <tr>\n",
       "      <th>Midwest</th>\n",
       "      <td>155975</td>\n",
       "      <td>7441350</td>\n",
       "      <td>0.020530</td>\n",
       "    </tr>\n",
       "    <tr>\n",
       "      <th>Northeast</th>\n",
       "      <td>108225</td>\n",
       "      <td>5614511</td>\n",
       "      <td>0.018911</td>\n",
       "    </tr>\n",
       "    <tr>\n",
       "      <th>South</th>\n",
       "      <td>209691</td>\n",
       "      <td>10582194</td>\n",
       "      <td>0.019430</td>\n",
       "    </tr>\n",
       "    <tr>\n",
       "      <th>West</th>\n",
       "      <td>160354</td>\n",
       "      <td>8132559</td>\n",
       "      <td>0.019336</td>\n",
       "    </tr>\n",
       "  </tbody>\n",
       "</table>\n",
       "</div>"
      ],
      "text/plain": [
       "user_spender_type  High spender  Low spender  High spender % of total\n",
       "region                                                               \n",
       "Midwest                  155975      7441350                 0.020530\n",
       "Northeast                108225      5614511                 0.018911\n",
       "South                    209691     10582194                 0.019430\n",
       "West                     160354      8132559                 0.019336"
      ]
     },
     "execution_count": 21,
     "metadata": {},
     "output_type": "execute_result"
    }
   ],
   "source": [
    "region_ct"
   ]
  },
  {
   "cell_type": "markdown",
   "id": "122158fd-090b-470a-8975-93ec5c5a71a9",
   "metadata": {},
   "source": [
    "#### - *The number of high spenders per region are fairly consistent*"
   ]
  },
  {
   "cell_type": "markdown",
   "id": "d0e4a8c3-0d04-4333-b2a9-b896761414fa",
   "metadata": {},
   "source": [
    "## 4. Cull low-activity customers"
   ]
  },
  {
   "cell_type": "code",
   "execution_count": 24,
   "id": "4d7bb4ad-3ece-473c-93bf-a306721c1223",
   "metadata": {},
   "outputs": [],
   "source": [
    "# return dataframe with rows max_order >= 5\n",
    "df_2 = df[df['max_order'] >= 5]"
   ]
  },
  {
   "cell_type": "code",
   "execution_count": 25,
   "id": "744a8e76-3b78-4a45-8bb9-f50c0b902d02",
   "metadata": {},
   "outputs": [
    {
     "data": {
      "text/plain": [
       "(30964564, 32)"
      ]
     },
     "execution_count": 25,
     "metadata": {},
     "output_type": "execute_result"
    }
   ],
   "source": [
    "df_2.shape"
   ]
  },
  {
   "cell_type": "code",
   "execution_count": 26,
   "id": "8e72fc11-7c25-4938-9ae9-5975f6d42e05",
   "metadata": {},
   "outputs": [
    {
     "data": {
      "text/html": [
       "<div>\n",
       "<style scoped>\n",
       "    .dataframe tbody tr th:only-of-type {\n",
       "        vertical-align: middle;\n",
       "    }\n",
       "\n",
       "    .dataframe tbody tr th {\n",
       "        vertical-align: top;\n",
       "    }\n",
       "\n",
       "    .dataframe thead th {\n",
       "        text-align: right;\n",
       "    }\n",
       "</style>\n",
       "<table border=\"1\" class=\"dataframe\">\n",
       "  <thead>\n",
       "    <tr style=\"text-align: right;\">\n",
       "      <th></th>\n",
       "      <th>order_id</th>\n",
       "      <th>user_id</th>\n",
       "      <th>order_number</th>\n",
       "      <th>orders_day_of_week</th>\n",
       "      <th>order_hour_of_day</th>\n",
       "      <th>days_since_prior_order</th>\n",
       "      <th>first_order</th>\n",
       "      <th>product_id</th>\n",
       "      <th>add_to_cart_order</th>\n",
       "      <th>reordered</th>\n",
       "      <th>...</th>\n",
       "      <th>user_median_days_since</th>\n",
       "      <th>user_order_frequency_flag</th>\n",
       "      <th>gender</th>\n",
       "      <th>state</th>\n",
       "      <th>age</th>\n",
       "      <th>date_joined</th>\n",
       "      <th>n_dependants</th>\n",
       "      <th>fam_status</th>\n",
       "      <th>income</th>\n",
       "      <th>region</th>\n",
       "    </tr>\n",
       "  </thead>\n",
       "  <tbody>\n",
       "    <tr>\n",
       "      <th>0</th>\n",
       "      <td>2539329</td>\n",
       "      <td>1</td>\n",
       "      <td>1</td>\n",
       "      <td>2</td>\n",
       "      <td>8</td>\n",
       "      <td>NaN</td>\n",
       "      <td>True</td>\n",
       "      <td>196</td>\n",
       "      <td>1</td>\n",
       "      <td>0</td>\n",
       "      <td>...</td>\n",
       "      <td>20.5</td>\n",
       "      <td>Non-frequent customer</td>\n",
       "      <td>Female</td>\n",
       "      <td>Alabama</td>\n",
       "      <td>31</td>\n",
       "      <td>2/17/2019</td>\n",
       "      <td>3</td>\n",
       "      <td>married</td>\n",
       "      <td>40423</td>\n",
       "      <td>South</td>\n",
       "    </tr>\n",
       "    <tr>\n",
       "      <th>1</th>\n",
       "      <td>2539329</td>\n",
       "      <td>1</td>\n",
       "      <td>1</td>\n",
       "      <td>2</td>\n",
       "      <td>8</td>\n",
       "      <td>NaN</td>\n",
       "      <td>True</td>\n",
       "      <td>14084</td>\n",
       "      <td>2</td>\n",
       "      <td>0</td>\n",
       "      <td>...</td>\n",
       "      <td>20.5</td>\n",
       "      <td>Non-frequent customer</td>\n",
       "      <td>Female</td>\n",
       "      <td>Alabama</td>\n",
       "      <td>31</td>\n",
       "      <td>2/17/2019</td>\n",
       "      <td>3</td>\n",
       "      <td>married</td>\n",
       "      <td>40423</td>\n",
       "      <td>South</td>\n",
       "    </tr>\n",
       "    <tr>\n",
       "      <th>2</th>\n",
       "      <td>2539329</td>\n",
       "      <td>1</td>\n",
       "      <td>1</td>\n",
       "      <td>2</td>\n",
       "      <td>8</td>\n",
       "      <td>NaN</td>\n",
       "      <td>True</td>\n",
       "      <td>12427</td>\n",
       "      <td>3</td>\n",
       "      <td>0</td>\n",
       "      <td>...</td>\n",
       "      <td>20.5</td>\n",
       "      <td>Non-frequent customer</td>\n",
       "      <td>Female</td>\n",
       "      <td>Alabama</td>\n",
       "      <td>31</td>\n",
       "      <td>2/17/2019</td>\n",
       "      <td>3</td>\n",
       "      <td>married</td>\n",
       "      <td>40423</td>\n",
       "      <td>South</td>\n",
       "    </tr>\n",
       "    <tr>\n",
       "      <th>3</th>\n",
       "      <td>2539329</td>\n",
       "      <td>1</td>\n",
       "      <td>1</td>\n",
       "      <td>2</td>\n",
       "      <td>8</td>\n",
       "      <td>NaN</td>\n",
       "      <td>True</td>\n",
       "      <td>26088</td>\n",
       "      <td>4</td>\n",
       "      <td>0</td>\n",
       "      <td>...</td>\n",
       "      <td>20.5</td>\n",
       "      <td>Non-frequent customer</td>\n",
       "      <td>Female</td>\n",
       "      <td>Alabama</td>\n",
       "      <td>31</td>\n",
       "      <td>2/17/2019</td>\n",
       "      <td>3</td>\n",
       "      <td>married</td>\n",
       "      <td>40423</td>\n",
       "      <td>South</td>\n",
       "    </tr>\n",
       "    <tr>\n",
       "      <th>4</th>\n",
       "      <td>2539329</td>\n",
       "      <td>1</td>\n",
       "      <td>1</td>\n",
       "      <td>2</td>\n",
       "      <td>8</td>\n",
       "      <td>NaN</td>\n",
       "      <td>True</td>\n",
       "      <td>26405</td>\n",
       "      <td>5</td>\n",
       "      <td>0</td>\n",
       "      <td>...</td>\n",
       "      <td>20.5</td>\n",
       "      <td>Non-frequent customer</td>\n",
       "      <td>Female</td>\n",
       "      <td>Alabama</td>\n",
       "      <td>31</td>\n",
       "      <td>2/17/2019</td>\n",
       "      <td>3</td>\n",
       "      <td>married</td>\n",
       "      <td>40423</td>\n",
       "      <td>South</td>\n",
       "    </tr>\n",
       "  </tbody>\n",
       "</table>\n",
       "<p>5 rows × 32 columns</p>\n",
       "</div>"
      ],
      "text/plain": [
       "   order_id user_id  order_number  orders_day_of_week  order_hour_of_day  \\\n",
       "0   2539329       1             1                   2                  8   \n",
       "1   2539329       1             1                   2                  8   \n",
       "2   2539329       1             1                   2                  8   \n",
       "3   2539329       1             1                   2                  8   \n",
       "4   2539329       1             1                   2                  8   \n",
       "\n",
       "   days_since_prior_order  first_order  product_id  add_to_cart_order  \\\n",
       "0                     NaN         True         196                  1   \n",
       "1                     NaN         True       14084                  2   \n",
       "2                     NaN         True       12427                  3   \n",
       "3                     NaN         True       26088                  4   \n",
       "4                     NaN         True       26405                  5   \n",
       "\n",
       "   reordered  ... user_median_days_since  user_order_frequency_flag  gender  \\\n",
       "0          0  ...                   20.5      Non-frequent customer  Female   \n",
       "1          0  ...                   20.5      Non-frequent customer  Female   \n",
       "2          0  ...                   20.5      Non-frequent customer  Female   \n",
       "3          0  ...                   20.5      Non-frequent customer  Female   \n",
       "4          0  ...                   20.5      Non-frequent customer  Female   \n",
       "\n",
       "     state age date_joined n_dependants fam_status  income region  \n",
       "0  Alabama  31   2/17/2019            3    married   40423  South  \n",
       "1  Alabama  31   2/17/2019            3    married   40423  South  \n",
       "2  Alabama  31   2/17/2019            3    married   40423  South  \n",
       "3  Alabama  31   2/17/2019            3    married   40423  South  \n",
       "4  Alabama  31   2/17/2019            3    married   40423  South  \n",
       "\n",
       "[5 rows x 32 columns]"
      ]
     },
     "execution_count": 26,
     "metadata": {},
     "output_type": "execute_result"
    }
   ],
   "source": [
    "df_2.head()"
   ]
  },
  {
   "cell_type": "code",
   "execution_count": 440,
   "id": "8425248a-44df-4e5d-8682-a1fd2319d4c2",
   "metadata": {},
   "outputs": [
    {
     "data": {
      "text/plain": [
       "(30964564, 37)"
      ]
     },
     "execution_count": 440,
     "metadata": {},
     "output_type": "execute_result"
    }
   ],
   "source": [
    "df_2.shape"
   ]
  },
  {
   "cell_type": "code",
   "execution_count": 442,
   "id": "e8533d27-4b36-4b36-b7ae-457be066aab6",
   "metadata": {},
   "outputs": [
    {
     "data": {
      "text/plain": [
       "(32404859, 32)"
      ]
     },
     "execution_count": 442,
     "metadata": {},
     "output_type": "execute_result"
    }
   ],
   "source": [
    "df.shape"
   ]
  },
  {
   "cell_type": "code",
   "execution_count": 27,
   "id": "e97e2932-6ba2-471f-8be3-2a6a27dc3e31",
   "metadata": {},
   "outputs": [],
   "source": [
    "df_2.to_pickle(os.path.join(project_path, '02 Data', 'Prepared Data', 'ords_prods_cust_2.pkl'))"
   ]
  },
  {
   "cell_type": "markdown",
   "id": "d6f770d8-a7cf-4551-b3e7-7bf1b5aa3c48",
   "metadata": {},
   "source": [
    "## 5. Create customer profiling variables"
   ]
  },
  {
   "cell_type": "markdown",
   "id": "ad36e95d-d5eb-4d77-87b4-d81b2d894fab",
   "metadata": {},
   "source": [
    "### 5a. Age Groups "
   ]
  },
  {
   "cell_type": "code",
   "execution_count": 30,
   "id": "d269f889-c1fc-412c-ab99-97aa577e1ef9",
   "metadata": {},
   "outputs": [],
   "source": [
    "# create column age_group based on following categories:\n",
    "# young adult: age < 26\n",
    "# adult: 26 <= age < 65\n",
    "# senior: age >= 65"
   ]
  },
  {
   "cell_type": "code",
   "execution_count": 31,
   "id": "374195f9-a7b4-4a84-be37-033f517de893",
   "metadata": {},
   "outputs": [
    {
     "name": "stderr",
     "output_type": "stream",
     "text": [
      "C:\\Users\\cneva\\AppData\\Local\\Temp\\ipykernel_7036\\2161847552.py:1: SettingWithCopyWarning: \n",
      "A value is trying to be set on a copy of a slice from a DataFrame.\n",
      "Try using .loc[row_indexer,col_indexer] = value instead\n",
      "\n",
      "See the caveats in the documentation: https://pandas.pydata.org/pandas-docs/stable/user_guide/indexing.html#returning-a-view-versus-a-copy\n",
      "  df_2.loc[df['age'] < 26, 'age_group'] = 'Young Adult'\n"
     ]
    }
   ],
   "source": [
    "df_2.loc[df['age'] < 26, 'age_group'] = 'Young Adult'"
   ]
  },
  {
   "cell_type": "code",
   "execution_count": 32,
   "id": "4888a0bd-f0b4-44a8-a522-8007d2ab62d9",
   "metadata": {},
   "outputs": [],
   "source": [
    "df_2.loc[ (df['age'] >= 26) & (df['age'] < 65), 'age_group'] = 'Adult'"
   ]
  },
  {
   "cell_type": "code",
   "execution_count": 33,
   "id": "aa5be6b6-2ee1-4408-87f8-561be63cc70c",
   "metadata": {},
   "outputs": [],
   "source": [
    "df_2.loc[df['age'] >= 65, 'age_group'] = 'Senior'"
   ]
  },
  {
   "cell_type": "markdown",
   "id": "580cf63c-b196-448e-aa37-71f30117bf21",
   "metadata": {},
   "source": [
    "### 5b. Income Groups"
   ]
  },
  {
   "cell_type": "code",
   "execution_count": 35,
   "id": "795ca41c-6ad2-4071-82ad-15f29eff1a9a",
   "metadata": {},
   "outputs": [],
   "source": [
    "# create column income_group based on following categories:\n",
    "# low: income < 50,000\n",
    "# middle: 50,000 <= income < 100,000\n",
    "# high: income >= 100,000"
   ]
  },
  {
   "cell_type": "code",
   "execution_count": 36,
   "id": "a727a971-9015-4b98-bc39-a7ba1144fef1",
   "metadata": {},
   "outputs": [
    {
     "name": "stderr",
     "output_type": "stream",
     "text": [
      "C:\\Users\\cneva\\AppData\\Local\\Temp\\ipykernel_7036\\2447248641.py:1: SettingWithCopyWarning: \n",
      "A value is trying to be set on a copy of a slice from a DataFrame.\n",
      "Try using .loc[row_indexer,col_indexer] = value instead\n",
      "\n",
      "See the caveats in the documentation: https://pandas.pydata.org/pandas-docs/stable/user_guide/indexing.html#returning-a-view-versus-a-copy\n",
      "  df_2.loc[df['income'] < 40000, 'income_group'] = 'Low'\n"
     ]
    }
   ],
   "source": [
    "df_2.loc[df['income'] < 40000, 'income_group'] = 'Low'"
   ]
  },
  {
   "cell_type": "code",
   "execution_count": 37,
   "id": "6105ed19-e794-482d-b823-4afeb0c3c603",
   "metadata": {},
   "outputs": [],
   "source": [
    "df_2.loc[ (df['income'] >= 40000) & (df['income'] < 100000), 'income_group'] = 'Middle'"
   ]
  },
  {
   "cell_type": "code",
   "execution_count": 38,
   "id": "a9a18670-242f-4671-9342-7e2ce9d83ea5",
   "metadata": {},
   "outputs": [],
   "source": [
    "df_2.loc[df['income'] >= 100000, 'income_group'] = 'High'"
   ]
  },
  {
   "cell_type": "markdown",
   "id": "42093d70-f392-43cf-8849-2332cbc6c236",
   "metadata": {},
   "source": [
    "### 5c. Dependancy Groups "
   ]
  },
  {
   "cell_type": "code",
   "execution_count": 40,
   "id": "c0b7ee8f-909e-4652-a2c0-b0ffe2a2ee0b",
   "metadata": {},
   "outputs": [],
   "source": [
    "# create column dependent_group based on following categories:\n",
    "# no dependents: n_dependents = 0\n",
    "# has dependents: n_dependents > 0"
   ]
  },
  {
   "cell_type": "code",
   "execution_count": 41,
   "id": "b225a7dd-c862-479b-8733-74123b01585e",
   "metadata": {},
   "outputs": [
    {
     "name": "stderr",
     "output_type": "stream",
     "text": [
      "C:\\Users\\cneva\\AppData\\Local\\Temp\\ipykernel_7036\\4155179954.py:1: SettingWithCopyWarning: \n",
      "A value is trying to be set on a copy of a slice from a DataFrame.\n",
      "Try using .loc[row_indexer,col_indexer] = value instead\n",
      "\n",
      "See the caveats in the documentation: https://pandas.pydata.org/pandas-docs/stable/user_guide/indexing.html#returning-a-view-versus-a-copy\n",
      "  df_2.loc[df['n_dependants'] == 0, 'dependant_group'] = 'No dependants'\n"
     ]
    }
   ],
   "source": [
    "df_2.loc[df['n_dependants'] == 0, 'dependant_group'] = 'No dependants'"
   ]
  },
  {
   "cell_type": "code",
   "execution_count": 42,
   "id": "624b83ce-6002-441b-be57-331043ddec4c",
   "metadata": {},
   "outputs": [],
   "source": [
    "df_2.loc[df['n_dependants'] > 0, 'dependant_group'] = 'Has dependants'"
   ]
  },
  {
   "cell_type": "markdown",
   "id": "4c719cbf-2bab-48cd-afc0-23597a8366b9",
   "metadata": {},
   "source": [
    "### 5d. Department Groups - Pet Owners "
   ]
  },
  {
   "cell_type": "code",
   "execution_count": 44,
   "id": "8d0991c6-a99f-4c5a-85bc-642fa985efcf",
   "metadata": {},
   "outputs": [
    {
     "data": {
      "text/html": [
       "<div>\n",
       "<style scoped>\n",
       "    .dataframe tbody tr th:only-of-type {\n",
       "        vertical-align: middle;\n",
       "    }\n",
       "\n",
       "    .dataframe tbody tr th {\n",
       "        vertical-align: top;\n",
       "    }\n",
       "\n",
       "    .dataframe thead th {\n",
       "        text-align: right;\n",
       "    }\n",
       "</style>\n",
       "<table border=\"1\" class=\"dataframe\">\n",
       "  <thead>\n",
       "    <tr style=\"text-align: right;\">\n",
       "      <th></th>\n",
       "      <th>Unnamed: 0</th>\n",
       "      <th>department</th>\n",
       "    </tr>\n",
       "  </thead>\n",
       "  <tbody>\n",
       "    <tr>\n",
       "      <th>0</th>\n",
       "      <td>1</td>\n",
       "      <td>frozen</td>\n",
       "    </tr>\n",
       "    <tr>\n",
       "      <th>1</th>\n",
       "      <td>2</td>\n",
       "      <td>other</td>\n",
       "    </tr>\n",
       "    <tr>\n",
       "      <th>2</th>\n",
       "      <td>3</td>\n",
       "      <td>bakery</td>\n",
       "    </tr>\n",
       "    <tr>\n",
       "      <th>3</th>\n",
       "      <td>4</td>\n",
       "      <td>produce</td>\n",
       "    </tr>\n",
       "    <tr>\n",
       "      <th>4</th>\n",
       "      <td>5</td>\n",
       "      <td>alcohol</td>\n",
       "    </tr>\n",
       "    <tr>\n",
       "      <th>5</th>\n",
       "      <td>6</td>\n",
       "      <td>international</td>\n",
       "    </tr>\n",
       "    <tr>\n",
       "      <th>6</th>\n",
       "      <td>7</td>\n",
       "      <td>beverages</td>\n",
       "    </tr>\n",
       "    <tr>\n",
       "      <th>7</th>\n",
       "      <td>8</td>\n",
       "      <td>pets</td>\n",
       "    </tr>\n",
       "    <tr>\n",
       "      <th>8</th>\n",
       "      <td>9</td>\n",
       "      <td>dry goods pasta</td>\n",
       "    </tr>\n",
       "    <tr>\n",
       "      <th>9</th>\n",
       "      <td>10</td>\n",
       "      <td>bulk</td>\n",
       "    </tr>\n",
       "    <tr>\n",
       "      <th>10</th>\n",
       "      <td>11</td>\n",
       "      <td>personal care</td>\n",
       "    </tr>\n",
       "    <tr>\n",
       "      <th>11</th>\n",
       "      <td>12</td>\n",
       "      <td>meat seafood</td>\n",
       "    </tr>\n",
       "    <tr>\n",
       "      <th>12</th>\n",
       "      <td>13</td>\n",
       "      <td>pantry</td>\n",
       "    </tr>\n",
       "    <tr>\n",
       "      <th>13</th>\n",
       "      <td>14</td>\n",
       "      <td>breakfast</td>\n",
       "    </tr>\n",
       "    <tr>\n",
       "      <th>14</th>\n",
       "      <td>15</td>\n",
       "      <td>canned goods</td>\n",
       "    </tr>\n",
       "    <tr>\n",
       "      <th>15</th>\n",
       "      <td>16</td>\n",
       "      <td>dairy eggs</td>\n",
       "    </tr>\n",
       "    <tr>\n",
       "      <th>16</th>\n",
       "      <td>17</td>\n",
       "      <td>household</td>\n",
       "    </tr>\n",
       "    <tr>\n",
       "      <th>17</th>\n",
       "      <td>18</td>\n",
       "      <td>babies</td>\n",
       "    </tr>\n",
       "    <tr>\n",
       "      <th>18</th>\n",
       "      <td>19</td>\n",
       "      <td>snacks</td>\n",
       "    </tr>\n",
       "    <tr>\n",
       "      <th>19</th>\n",
       "      <td>20</td>\n",
       "      <td>deli</td>\n",
       "    </tr>\n",
       "    <tr>\n",
       "      <th>20</th>\n",
       "      <td>21</td>\n",
       "      <td>missing</td>\n",
       "    </tr>\n",
       "  </tbody>\n",
       "</table>\n",
       "</div>"
      ],
      "text/plain": [
       "    Unnamed: 0       department\n",
       "0            1           frozen\n",
       "1            2            other\n",
       "2            3           bakery\n",
       "3            4          produce\n",
       "4            5          alcohol\n",
       "5            6    international\n",
       "6            7        beverages\n",
       "7            8             pets\n",
       "8            9  dry goods pasta\n",
       "9           10             bulk\n",
       "10          11    personal care\n",
       "11          12     meat seafood\n",
       "12          13           pantry\n",
       "13          14        breakfast\n",
       "14          15     canned goods\n",
       "15          16       dairy eggs\n",
       "16          17        household\n",
       "17          18           babies\n",
       "18          19           snacks\n",
       "19          20             deli\n",
       "20          21          missing"
      ]
     },
     "execution_count": 44,
     "metadata": {},
     "output_type": "execute_result"
    }
   ],
   "source": [
    "# read department file\n",
    "df_dep = pd.read_csv(os.path.join(project_path, '02 Data', 'Prepared Data', 'departments_wrangled.csv'))\n",
    "df_dep"
   ]
  },
  {
   "cell_type": "code",
   "execution_count": 45,
   "id": "cba09dfd-90be-489c-8722-e11d82987072",
   "metadata": {},
   "outputs": [],
   "source": [
    "# create subset of users that ordered from pet department\n",
    "df_pet_users = df_2[df_2['department_id'] == 8]['user_id'].unique()"
   ]
  },
  {
   "cell_type": "code",
   "execution_count": 46,
   "id": "1bcd0375-3eff-4349-bb7a-0cd23d11f476",
   "metadata": {},
   "outputs": [
    {
     "name": "stderr",
     "output_type": "stream",
     "text": [
      "C:\\Users\\cneva\\AppData\\Local\\Temp\\ipykernel_7036\\884557703.py:2: SettingWithCopyWarning: \n",
      "A value is trying to be set on a copy of a slice from a DataFrame.\n",
      "Try using .loc[row_indexer,col_indexer] = value instead\n",
      "\n",
      "See the caveats in the documentation: https://pandas.pydata.org/pandas-docs/stable/user_guide/indexing.html#returning-a-view-versus-a-copy\n",
      "  df_2.loc[ df_2['user_id'].isin(df_pet_users), 'pet_owner'] = 'Y'\n"
     ]
    }
   ],
   "source": [
    "# label user_ids who have purchased from pet department\n",
    "df_2.loc[ df_2['user_id'].isin(df_pet_users), 'pet_owner'] = 'Y'"
   ]
  },
  {
   "cell_type": "code",
   "execution_count": 47,
   "id": "ea52820f-17a6-4fae-8fb8-db0c2b9439bb",
   "metadata": {},
   "outputs": [],
   "source": [
    "df_2.loc[ ~df_2['user_id'].isin(df_pet_users), 'pet_owner'] = 'N'"
   ]
  },
  {
   "cell_type": "markdown",
   "id": "2857c184-ee25-46bc-ba7a-fb8e40649f53",
   "metadata": {},
   "source": [
    "### 5e. Single Adults "
   ]
  },
  {
   "cell_type": "code",
   "execution_count": 49,
   "id": "22d1662d-7ce2-4f87-95af-ace186f5fb0f",
   "metadata": {},
   "outputs": [
    {
     "name": "stderr",
     "output_type": "stream",
     "text": [
      "C:\\Users\\cneva\\AppData\\Local\\Temp\\ipykernel_7036\\4234576651.py:4: SettingWithCopyWarning: \n",
      "A value is trying to be set on a copy of a slice from a DataFrame.\n",
      "Try using .loc[row_indexer,col_indexer] = value instead\n",
      "\n",
      "See the caveats in the documentation: https://pandas.pydata.org/pandas-docs/stable/user_guide/indexing.html#returning-a-view-versus-a-copy\n",
      "  df_2.loc[ ((df_2['age_group'] == 'Young Adult') | (df_2['age_group'] == 'Adult')) & (df_2['fam_status'] == 'single'), 'single_adult'] = 'Y'\n"
     ]
    }
   ],
   "source": [
    "# create column young_adult based on following categories:\n",
    "# Y: age_group == Young adult & fam_status == single\n",
    "# N: \n",
    "df_2.loc[ ((df_2['age_group'] == 'Young Adult') | (df_2['age_group'] == 'Adult')) & (df_2['fam_status'] == 'single'), 'single_adult'] = 'Y'"
   ]
  },
  {
   "cell_type": "code",
   "execution_count": 50,
   "id": "baca4edb-70ba-4bf4-aab8-5ad0e370ab5d",
   "metadata": {},
   "outputs": [],
   "source": [
    "df_2.loc[ df_2['single_adult'].isnull(), 'single_adult'] = 'N'"
   ]
  },
  {
   "cell_type": "markdown",
   "id": "c1a2b525-b81f-4c9f-b137-e5add10e249f",
   "metadata": {},
   "source": [
    "## 6. Create visualization of distribution of profiles "
   ]
  },
  {
   "cell_type": "markdown",
   "id": "bcc1fcff-daf1-4e26-a110-2a23063c6423",
   "metadata": {},
   "source": [
    "### 6a. Age Groups "
   ]
  },
  {
   "cell_type": "code",
   "execution_count": 53,
   "id": "c02007e6-6842-4f51-9446-4cb81dc2d628",
   "metadata": {},
   "outputs": [],
   "source": [
    "# group by age group and count the number of unique users\n",
    "age_group_user_count = df_2.groupby('age_group')['user_id'].nunique().sort_values(ascending = True)"
   ]
  },
  {
   "cell_type": "code",
   "execution_count": 414,
   "id": "b38af5f7-3d58-4916-b501-bd2a3b7d91a4",
   "metadata": {},
   "outputs": [
    {
     "data": {
      "image/png": "[encoded data removed]",
      "text/plain": [
       "<Figure size 640x480 with 1 Axes>"
      ]
     },
     "metadata": {},
     "output_type": "display_data"
    }
   ],
   "source": [
    "# plot visualization\n",
    "age_group_user_count_bar = age_group_user_count.plot(\n",
    "    kind = 'barh',\n",
    "    title = 'User Count by Age Group',\n",
    "    ylabel = ''\n",
    ")\n",
    "plt.savefig(os.path.join(project_path, '04 Analysis', 'Visualizations', '4.10_agegroup_usercount.png'))"
   ]
  },
  {
   "cell_type": "markdown",
   "id": "fd545cda-747b-4f95-b4f5-338f34bbafce",
   "metadata": {},
   "source": [
    "### 6b. Income Groups"
   ]
  },
  {
   "cell_type": "code",
   "execution_count": 56,
   "id": "3d364993-2e03-4459-9399-d7381d31a8fe",
   "metadata": {},
   "outputs": [],
   "source": [
    "# group by income group and count the number of unique users\n",
    "income_group_user_count = df_2.groupby('income_group')['user_id'].nunique().sort_values(ascending = True)"
   ]
  },
  {
   "cell_type": "code",
   "execution_count": 418,
   "id": "c23c4101-4ece-400b-a53d-30c9b12c5a8b",
   "metadata": {},
   "outputs": [
    {
     "data": {
      "image/png": "[encoded data removed]",
      "text/plain": [
       "<Figure size 640x480 with 1 Axes>"
      ]
     },
     "metadata": {},
     "output_type": "display_data"
    }
   ],
   "source": [
    "# plot visualization\n",
    "income_group_user_count_bar = income_group_user_count.plot(\n",
    "    kind = 'barh',\n",
    "    title = 'User Count by Income Group',\n",
    "    ylabel = ''\n",
    ")\n",
    "plt.savefig(os.path.join(project_path, '04 Analysis', 'Visualizations', '4.10_incomegroup_usercount.png'))"
   ]
  },
  {
   "cell_type": "markdown",
   "id": "d6950422-a62e-4428-99e5-df3061b07a8f",
   "metadata": {},
   "source": [
    "### 6c. Dependancy Groups"
   ]
  },
  {
   "cell_type": "code",
   "execution_count": 59,
   "id": "967b64fb-a42b-4ae7-bd13-b684e838c012",
   "metadata": {},
   "outputs": [],
   "source": [
    "# group by dependant_group and count the number of unique users\n",
    "dependant_group_user_count = df_2.groupby('dependant_group')['user_id'].nunique().sort_values(ascending = True)"
   ]
  },
  {
   "cell_type": "code",
   "execution_count": 420,
   "id": "d5e435fb-296e-44a9-985e-80fcd1822176",
   "metadata": {},
   "outputs": [
    {
     "data": {
      "image/png": "[encoded data removed]",
      "text/plain": [
       "<Figure size 640x480 with 1 Axes>"
      ]
     },
     "metadata": {},
     "output_type": "display_data"
    }
   ],
   "source": [
    "# plot visualization\n",
    "dependancy_group_user_count_bar = dependant_group_user_count.plot(\n",
    "    kind = 'pie',\n",
    "    title = 'Percent of User That Have Dependants',\n",
    "    ylabel = '',\n",
    "    autopct='%1.1f%%'\n",
    ")\n",
    "plt.savefig(os.path.join(project_path, '04 Analysis', 'Visualizations', '4.10_dependant_usercount.png'))"
   ]
  },
  {
   "cell_type": "markdown",
   "id": "5e6e8082-ae8a-4632-9016-73731d42be02",
   "metadata": {},
   "source": [
    "### 6d. Department Groups - Pet Owners "
   ]
  },
  {
   "cell_type": "code",
   "execution_count": 62,
   "id": "0f10b138-2001-49be-8fd5-8230a5fb5d28",
   "metadata": {},
   "outputs": [],
   "source": [
    "# group by pet owners and count the number of unique users\n",
    "pet_owner_user_count = df_2.groupby('pet_owner')['user_id'].nunique().sort_values(ascending = True)"
   ]
  },
  {
   "cell_type": "code",
   "execution_count": 422,
   "id": "0742528c-b2bd-4c0f-88cf-9a6fb49c3335",
   "metadata": {},
   "outputs": [
    {
     "data": {
      "image/png": "[encoded data removed]",
      "text/plain": [
       "<Figure size 640x480 with 1 Axes>"
      ]
     },
     "metadata": {},
     "output_type": "display_data"
    }
   ],
   "source": [
    "# plot visualization\n",
    "pet_owner_user_count_bar = pet_owner_user_count.plot(\n",
    "    kind = 'pie',\n",
    "    title = 'Percent of Users That Are Pet Owners',\n",
    "    ylabel = '',\n",
    "    autopct='%1.1f%%'\n",
    ")\n",
    "plt.savefig(os.path.join(project_path, '04 Analysis', 'Visualizations', '4.10_petowner_usercount.png'))"
   ]
  },
  {
   "cell_type": "markdown",
   "id": "e4dce5ab-5324-439c-a8ac-e4fddac5ec00",
   "metadata": {},
   "source": [
    "### 6e. Single Adults"
   ]
  },
  {
   "cell_type": "code",
   "execution_count": 65,
   "id": "874a0407-8603-4a77-94b2-eb35a3fadf97",
   "metadata": {},
   "outputs": [],
   "source": [
    "# group by single and count the number of unique users\n",
    "single_user_count = df_2.groupby('single_adult')['user_id'].nunique().sort_values(ascending = True)"
   ]
  },
  {
   "cell_type": "code",
   "execution_count": 424,
   "id": "62720846-8fcb-4812-a2db-43062298b637",
   "metadata": {},
   "outputs": [
    {
     "data": {
      "image/png": "[encoded data removed]",
      "text/plain": [
       "<Figure size 640x480 with 1 Axes>"
      ]
     },
     "metadata": {},
     "output_type": "display_data"
    }
   ],
   "source": [
    "# plot visualization\n",
    "single_user_count_bar = single_user_count.plot(\n",
    "    kind = 'pie',\n",
    "    title = 'Percent of Users That Are Single Adults',\n",
    "    ylabel = '',\n",
    "    autopct='%1.1f%%'\n",
    ")\n",
    "plt.savefig(os.path.join(project_path, '04 Analysis', 'Visualizations', '4.10_singleadult_usercount.png'))"
   ]
  },
  {
   "cell_type": "markdown",
   "id": "eb6f73f1-83b8-4807-8a9e-d0ac71172e74",
   "metadata": {},
   "source": [
    "## 7. Aggregate max, mean, min on customer-profile level for usage frequency and expenditure "
   ]
  },
  {
   "cell_type": "code",
   "execution_count": 68,
   "id": "ef282ddd-844b-4c3d-9e2d-e605374421bf",
   "metadata": {},
   "outputs": [],
   "source": [
    "# aggregate df to customer level\n",
    "df_3 = df_2.groupby(['user_id', 'max_order', 'age_group', 'income_group', 'dependant_group', 'pet_owner', 'single_adult', 'region']).agg(\n",
    "    total_spent=('prices', 'sum'),\n",
    "    order_frequency=('days_since_prior_order', 'mean')\n",
    ").reset_index()"
   ]
  },
  {
   "cell_type": "code",
   "execution_count": 69,
   "id": "48bd06b7-3a94-472c-ac6d-a90b03a10756",
   "metadata": {},
   "outputs": [
    {
     "data": {
      "text/html": [
       "<div>\n",
       "<style scoped>\n",
       "    .dataframe tbody tr th:only-of-type {\n",
       "        vertical-align: middle;\n",
       "    }\n",
       "\n",
       "    .dataframe tbody tr th {\n",
       "        vertical-align: top;\n",
       "    }\n",
       "\n",
       "    .dataframe thead th {\n",
       "        text-align: right;\n",
       "    }\n",
       "</style>\n",
       "<table border=\"1\" class=\"dataframe\">\n",
       "  <thead>\n",
       "    <tr style=\"text-align: right;\">\n",
       "      <th></th>\n",
       "      <th>user_id</th>\n",
       "      <th>max_order</th>\n",
       "      <th>age_group</th>\n",
       "      <th>income_group</th>\n",
       "      <th>dependant_group</th>\n",
       "      <th>pet_owner</th>\n",
       "      <th>single_adult</th>\n",
       "      <th>region</th>\n",
       "      <th>total_spent</th>\n",
       "      <th>order_frequency</th>\n",
       "    </tr>\n",
       "  </thead>\n",
       "  <tbody>\n",
       "    <tr>\n",
       "      <th>0</th>\n",
       "      <td>1</td>\n",
       "      <td>10</td>\n",
       "      <td>Adult</td>\n",
       "      <td>Middle</td>\n",
       "      <td>Has dependants</td>\n",
       "      <td>N</td>\n",
       "      <td>N</td>\n",
       "      <td>South</td>\n",
       "      <td>375.7</td>\n",
       "      <td>20.259259</td>\n",
       "    </tr>\n",
       "    <tr>\n",
       "      <th>1</th>\n",
       "      <td>10</td>\n",
       "      <td>5</td>\n",
       "      <td>Adult</td>\n",
       "      <td>Middle</td>\n",
       "      <td>Has dependants</td>\n",
       "      <td>N</td>\n",
       "      <td>N</td>\n",
       "      <td>South</td>\n",
       "      <td>1237.1</td>\n",
       "      <td>20.746377</td>\n",
       "    </tr>\n",
       "    <tr>\n",
       "      <th>2</th>\n",
       "      <td>100</td>\n",
       "      <td>5</td>\n",
       "      <td>Adult</td>\n",
       "      <td>High</td>\n",
       "      <td>Has dependants</td>\n",
       "      <td>N</td>\n",
       "      <td>N</td>\n",
       "      <td>South</td>\n",
       "      <td>266.2</td>\n",
       "      <td>26.320000</td>\n",
       "    </tr>\n",
       "    <tr>\n",
       "      <th>3</th>\n",
       "      <td>1000</td>\n",
       "      <td>7</td>\n",
       "      <td>Young Adult</td>\n",
       "      <td>Middle</td>\n",
       "      <td>Has dependants</td>\n",
       "      <td>N</td>\n",
       "      <td>N</td>\n",
       "      <td>South</td>\n",
       "      <td>866.0</td>\n",
       "      <td>11.647727</td>\n",
       "    </tr>\n",
       "    <tr>\n",
       "      <th>4</th>\n",
       "      <td>10000</td>\n",
       "      <td>72</td>\n",
       "      <td>Adult</td>\n",
       "      <td>Middle</td>\n",
       "      <td>No dependants</td>\n",
       "      <td>N</td>\n",
       "      <td>Y</td>\n",
       "      <td>South</td>\n",
       "      <td>8785.6</td>\n",
       "      <td>4.949580</td>\n",
       "    </tr>\n",
       "  </tbody>\n",
       "</table>\n",
       "</div>"
      ],
      "text/plain": [
       "  user_id  max_order    age_group income_group dependant_group pet_owner  \\\n",
       "0       1         10        Adult       Middle  Has dependants         N   \n",
       "1      10          5        Adult       Middle  Has dependants         N   \n",
       "2     100          5        Adult         High  Has dependants         N   \n",
       "3    1000          7  Young Adult       Middle  Has dependants         N   \n",
       "4   10000         72        Adult       Middle   No dependants         N   \n",
       "\n",
       "  single_adult region  total_spent  order_frequency  \n",
       "0            N  South        375.7        20.259259  \n",
       "1            N  South       1237.1        20.746377  \n",
       "2            N  South        266.2        26.320000  \n",
       "3            N  South        866.0        11.647727  \n",
       "4            Y  South       8785.6         4.949580  "
      ]
     },
     "execution_count": 69,
     "metadata": {},
     "output_type": "execute_result"
    }
   ],
   "source": [
    "# check customer level\n",
    "df_3.head()"
   ]
  },
  {
   "cell_type": "code",
   "execution_count": 70,
   "id": "29b8b49b-0512-41c0-88c4-cddd85c495e0",
   "metadata": {},
   "outputs": [
    {
     "data": {
      "text/plain": [
       "(162631, 10)"
      ]
     },
     "execution_count": 70,
     "metadata": {},
     "output_type": "execute_result"
    }
   ],
   "source": [
    "df_3.shape"
   ]
  },
  {
   "cell_type": "code",
   "execution_count": 71,
   "id": "e56cadd5-501e-4861-8d80-829ce4778ca1",
   "metadata": {},
   "outputs": [
    {
     "data": {
      "text/plain": [
       "162631"
      ]
     },
     "execution_count": 71,
     "metadata": {},
     "output_type": "execute_result"
    }
   ],
   "source": [
    "df_2['user_id'].nunique()"
   ]
  },
  {
   "cell_type": "markdown",
   "id": "24bdf711-71be-42a4-9fcc-4be0d8072a38",
   "metadata": {},
   "source": [
    "### 7a. Age Group "
   ]
  },
  {
   "cell_type": "code",
   "execution_count": 73,
   "id": "b792c083-0af8-4315-b821-749c3d8548ce",
   "metadata": {},
   "outputs": [
    {
     "data": {
      "text/html": [
       "<div>\n",
       "<style scoped>\n",
       "    .dataframe tbody tr th:only-of-type {\n",
       "        vertical-align: middle;\n",
       "    }\n",
       "\n",
       "    .dataframe tbody tr th {\n",
       "        vertical-align: top;\n",
       "    }\n",
       "\n",
       "    .dataframe thead tr th {\n",
       "        text-align: left;\n",
       "    }\n",
       "\n",
       "    .dataframe thead tr:last-of-type th {\n",
       "        text-align: right;\n",
       "    }\n",
       "</style>\n",
       "<table border=\"1\" class=\"dataframe\">\n",
       "  <thead>\n",
       "    <tr>\n",
       "      <th></th>\n",
       "      <th colspan=\"3\" halign=\"left\">total_spent</th>\n",
       "      <th colspan=\"3\" halign=\"left\">order_frequency</th>\n",
       "    </tr>\n",
       "    <tr>\n",
       "      <th></th>\n",
       "      <th>mean</th>\n",
       "      <th>min</th>\n",
       "      <th>max</th>\n",
       "      <th>mean</th>\n",
       "      <th>min</th>\n",
       "      <th>max</th>\n",
       "    </tr>\n",
       "    <tr>\n",
       "      <th>age_group</th>\n",
       "      <th></th>\n",
       "      <th></th>\n",
       "      <th></th>\n",
       "      <th></th>\n",
       "      <th></th>\n",
       "      <th></th>\n",
       "    </tr>\n",
       "  </thead>\n",
       "  <tbody>\n",
       "    <tr>\n",
       "      <th>Adult</th>\n",
       "      <td>2278.307858</td>\n",
       "      <td>5.0</td>\n",
       "      <td>2104114.1</td>\n",
       "      <td>14.362957</td>\n",
       "      <td>0.000000</td>\n",
       "      <td>30.0</td>\n",
       "    </tr>\n",
       "    <tr>\n",
       "      <th>Senior</th>\n",
       "      <td>2228.007126</td>\n",
       "      <td>6.8</td>\n",
       "      <td>1409778.9</td>\n",
       "      <td>14.305956</td>\n",
       "      <td>0.000000</td>\n",
       "      <td>30.0</td>\n",
       "    </tr>\n",
       "    <tr>\n",
       "      <th>Young Adult</th>\n",
       "      <td>2336.153231</td>\n",
       "      <td>10.5</td>\n",
       "      <td>2101976.9</td>\n",
       "      <td>14.333850</td>\n",
       "      <td>0.583333</td>\n",
       "      <td>30.0</td>\n",
       "    </tr>\n",
       "  </tbody>\n",
       "</table>\n",
       "</div>"
      ],
      "text/plain": [
       "             total_spent                  order_frequency                \n",
       "                    mean   min        max            mean       min   max\n",
       "age_group                                                                \n",
       "Adult        2278.307858   5.0  2104114.1       14.362957  0.000000  30.0\n",
       "Senior       2228.007126   6.8  1409778.9       14.305956  0.000000  30.0\n",
       "Young Adult  2336.153231  10.5  2101976.9       14.333850  0.583333  30.0"
      ]
     },
     "execution_count": 73,
     "metadata": {},
     "output_type": "execute_result"
    }
   ],
   "source": [
    "df_3.groupby('age_group').agg({'total_spent' : ['mean', 'min', 'max'],\n",
    "                              'order_frequency' : ['mean', 'min', 'max']})"
   ]
  },
  {
   "cell_type": "markdown",
   "id": "8a03ee07-6018-49ea-9b0e-c4c2cb91fca2",
   "metadata": {},
   "source": [
    "### 7b. Income Group "
   ]
  },
  {
   "cell_type": "code",
   "execution_count": 75,
   "id": "cc0fe045-d2d9-4db6-b33a-6ecde30e986c",
   "metadata": {},
   "outputs": [
    {
     "data": {
      "text/html": [
       "<div>\n",
       "<style scoped>\n",
       "    .dataframe tbody tr th:only-of-type {\n",
       "        vertical-align: middle;\n",
       "    }\n",
       "\n",
       "    .dataframe tbody tr th {\n",
       "        vertical-align: top;\n",
       "    }\n",
       "\n",
       "    .dataframe thead tr th {\n",
       "        text-align: left;\n",
       "    }\n",
       "\n",
       "    .dataframe thead tr:last-of-type th {\n",
       "        text-align: right;\n",
       "    }\n",
       "</style>\n",
       "<table border=\"1\" class=\"dataframe\">\n",
       "  <thead>\n",
       "    <tr>\n",
       "      <th></th>\n",
       "      <th colspan=\"3\" halign=\"left\">total_spent</th>\n",
       "      <th colspan=\"3\" halign=\"left\">order_frequency</th>\n",
       "    </tr>\n",
       "    <tr>\n",
       "      <th></th>\n",
       "      <th>mean</th>\n",
       "      <th>min</th>\n",
       "      <th>max</th>\n",
       "      <th>mean</th>\n",
       "      <th>min</th>\n",
       "      <th>max</th>\n",
       "    </tr>\n",
       "    <tr>\n",
       "      <th>income_group</th>\n",
       "      <th></th>\n",
       "      <th></th>\n",
       "      <th></th>\n",
       "      <th></th>\n",
       "      <th></th>\n",
       "      <th></th>\n",
       "    </tr>\n",
       "  </thead>\n",
       "  <tbody>\n",
       "    <tr>\n",
       "      <th>High</th>\n",
       "      <td>3337.213784</td>\n",
       "      <td>24.7</td>\n",
       "      <td>2104114.1</td>\n",
       "      <td>14.175400</td>\n",
       "      <td>0.0</td>\n",
       "      <td>30.0</td>\n",
       "    </tr>\n",
       "    <tr>\n",
       "      <th>Low</th>\n",
       "      <td>830.323160</td>\n",
       "      <td>5.0</td>\n",
       "      <td>24307.1</td>\n",
       "      <td>15.232918</td>\n",
       "      <td>0.0</td>\n",
       "      <td>30.0</td>\n",
       "    </tr>\n",
       "    <tr>\n",
       "      <th>Middle</th>\n",
       "      <td>1565.945230</td>\n",
       "      <td>6.8</td>\n",
       "      <td>1102546.5</td>\n",
       "      <td>14.351793</td>\n",
       "      <td>0.0</td>\n",
       "      <td>30.0</td>\n",
       "    </tr>\n",
       "  </tbody>\n",
       "</table>\n",
       "</div>"
      ],
      "text/plain": [
       "              total_spent                  order_frequency           \n",
       "                     mean   min        max            mean  min   max\n",
       "income_group                                                         \n",
       "High          3337.213784  24.7  2104114.1       14.175400  0.0  30.0\n",
       "Low            830.323160   5.0    24307.1       15.232918  0.0  30.0\n",
       "Middle        1565.945230   6.8  1102546.5       14.351793  0.0  30.0"
      ]
     },
     "execution_count": 75,
     "metadata": {},
     "output_type": "execute_result"
    }
   ],
   "source": [
    "df_3.groupby('income_group').agg({'total_spent' : ['mean', 'min', 'max'],\n",
    "                              'order_frequency' : ['mean', 'min', 'max']})"
   ]
  },
  {
   "cell_type": "markdown",
   "id": "f74bd372-b08c-40a5-804f-73d8d429f7c3",
   "metadata": {},
   "source": [
    "### 7c. Dependancy Group "
   ]
  },
  {
   "cell_type": "code",
   "execution_count": 77,
   "id": "58f2c102-9512-42a4-94a2-1f26a1c093d5",
   "metadata": {},
   "outputs": [
    {
     "data": {
      "text/html": [
       "<div>\n",
       "<style scoped>\n",
       "    .dataframe tbody tr th:only-of-type {\n",
       "        vertical-align: middle;\n",
       "    }\n",
       "\n",
       "    .dataframe tbody tr th {\n",
       "        vertical-align: top;\n",
       "    }\n",
       "\n",
       "    .dataframe thead tr th {\n",
       "        text-align: left;\n",
       "    }\n",
       "\n",
       "    .dataframe thead tr:last-of-type th {\n",
       "        text-align: right;\n",
       "    }\n",
       "</style>\n",
       "<table border=\"1\" class=\"dataframe\">\n",
       "  <thead>\n",
       "    <tr>\n",
       "      <th></th>\n",
       "      <th colspan=\"3\" halign=\"left\">total_spent</th>\n",
       "      <th colspan=\"3\" halign=\"left\">order_frequency</th>\n",
       "    </tr>\n",
       "    <tr>\n",
       "      <th></th>\n",
       "      <th>mean</th>\n",
       "      <th>min</th>\n",
       "      <th>max</th>\n",
       "      <th>mean</th>\n",
       "      <th>min</th>\n",
       "      <th>max</th>\n",
       "    </tr>\n",
       "    <tr>\n",
       "      <th>dependant_group</th>\n",
       "      <th></th>\n",
       "      <th></th>\n",
       "      <th></th>\n",
       "      <th></th>\n",
       "      <th></th>\n",
       "      <th></th>\n",
       "    </tr>\n",
       "  </thead>\n",
       "  <tbody>\n",
       "    <tr>\n",
       "      <th>Has dependants</th>\n",
       "      <td>2262.809882</td>\n",
       "      <td>6.8</td>\n",
       "      <td>2104114.1</td>\n",
       "      <td>14.338553</td>\n",
       "      <td>0.0</td>\n",
       "      <td>30.0</td>\n",
       "    </tr>\n",
       "    <tr>\n",
       "      <th>No dependants</th>\n",
       "      <td>2299.965765</td>\n",
       "      <td>5.0</td>\n",
       "      <td>2101976.9</td>\n",
       "      <td>14.361036</td>\n",
       "      <td>0.0</td>\n",
       "      <td>30.0</td>\n",
       "    </tr>\n",
       "  </tbody>\n",
       "</table>\n",
       "</div>"
      ],
      "text/plain": [
       "                 total_spent                 order_frequency           \n",
       "                        mean  min        max            mean  min   max\n",
       "dependant_group                                                        \n",
       "Has dependants   2262.809882  6.8  2104114.1       14.338553  0.0  30.0\n",
       "No dependants    2299.965765  5.0  2101976.9       14.361036  0.0  30.0"
      ]
     },
     "execution_count": 77,
     "metadata": {},
     "output_type": "execute_result"
    }
   ],
   "source": [
    "df_3.groupby('dependant_group').agg({'total_spent' : ['mean', 'min', 'max'],\n",
    "                              'order_frequency' : ['mean', 'min', 'max']})"
   ]
  },
  {
   "cell_type": "markdown",
   "id": "860abbee-fc39-4c27-bc0a-485aabc382d4",
   "metadata": {},
   "source": [
    "### 7d. Department Group - Pet Owners "
   ]
  },
  {
   "cell_type": "code",
   "execution_count": 79,
   "id": "ebedcd51-c421-44ce-9786-fdc9dad68bfd",
   "metadata": {},
   "outputs": [
    {
     "data": {
      "text/html": [
       "<div>\n",
       "<style scoped>\n",
       "    .dataframe tbody tr th:only-of-type {\n",
       "        vertical-align: middle;\n",
       "    }\n",
       "\n",
       "    .dataframe tbody tr th {\n",
       "        vertical-align: top;\n",
       "    }\n",
       "\n",
       "    .dataframe thead tr th {\n",
       "        text-align: left;\n",
       "    }\n",
       "\n",
       "    .dataframe thead tr:last-of-type th {\n",
       "        text-align: right;\n",
       "    }\n",
       "</style>\n",
       "<table border=\"1\" class=\"dataframe\">\n",
       "  <thead>\n",
       "    <tr>\n",
       "      <th></th>\n",
       "      <th colspan=\"3\" halign=\"left\">total_spent</th>\n",
       "      <th colspan=\"3\" halign=\"left\">order_frequency</th>\n",
       "    </tr>\n",
       "    <tr>\n",
       "      <th></th>\n",
       "      <th>mean</th>\n",
       "      <th>min</th>\n",
       "      <th>max</th>\n",
       "      <th>mean</th>\n",
       "      <th>min</th>\n",
       "      <th>max</th>\n",
       "    </tr>\n",
       "    <tr>\n",
       "      <th>pet_owner</th>\n",
       "      <th></th>\n",
       "      <th></th>\n",
       "      <th></th>\n",
       "      <th></th>\n",
       "      <th></th>\n",
       "      <th></th>\n",
       "    </tr>\n",
       "  </thead>\n",
       "  <tbody>\n",
       "    <tr>\n",
       "      <th>N</th>\n",
       "      <td>2141.994515</td>\n",
       "      <td>5.0</td>\n",
       "      <td>2104114.1</td>\n",
       "      <td>14.439277</td>\n",
       "      <td>0.000000</td>\n",
       "      <td>30.0</td>\n",
       "    </tr>\n",
       "    <tr>\n",
       "      <th>Y</th>\n",
       "      <td>3748.185913</td>\n",
       "      <td>24.9</td>\n",
       "      <td>1206437.5</td>\n",
       "      <td>13.265452</td>\n",
       "      <td>0.717842</td>\n",
       "      <td>30.0</td>\n",
       "    </tr>\n",
       "  </tbody>\n",
       "</table>\n",
       "</div>"
      ],
      "text/plain": [
       "           total_spent                  order_frequency                \n",
       "                  mean   min        max            mean       min   max\n",
       "pet_owner                                                              \n",
       "N          2141.994515   5.0  2104114.1       14.439277  0.000000  30.0\n",
       "Y          3748.185913  24.9  1206437.5       13.265452  0.717842  30.0"
      ]
     },
     "execution_count": 79,
     "metadata": {},
     "output_type": "execute_result"
    }
   ],
   "source": [
    "df_3.groupby('pet_owner').agg({'total_spent' : ['mean', 'min', 'max'],\n",
    "                              'order_frequency' : ['mean', 'min', 'max']})"
   ]
  },
  {
   "cell_type": "markdown",
   "id": "e1a11aff-392b-467b-a0f2-82561256c622",
   "metadata": {},
   "source": [
    "### 7e. Single Adults "
   ]
  },
  {
   "cell_type": "code",
   "execution_count": 81,
   "id": "21910bc7-9df2-49fa-9f5b-457fe1e650b4",
   "metadata": {},
   "outputs": [
    {
     "data": {
      "text/html": [
       "<div>\n",
       "<style scoped>\n",
       "    .dataframe tbody tr th:only-of-type {\n",
       "        vertical-align: middle;\n",
       "    }\n",
       "\n",
       "    .dataframe tbody tr th {\n",
       "        vertical-align: top;\n",
       "    }\n",
       "\n",
       "    .dataframe thead tr th {\n",
       "        text-align: left;\n",
       "    }\n",
       "\n",
       "    .dataframe thead tr:last-of-type th {\n",
       "        text-align: right;\n",
       "    }\n",
       "</style>\n",
       "<table border=\"1\" class=\"dataframe\">\n",
       "  <thead>\n",
       "    <tr>\n",
       "      <th></th>\n",
       "      <th colspan=\"3\" halign=\"left\">total_spent</th>\n",
       "      <th colspan=\"3\" halign=\"left\">order_frequency</th>\n",
       "    </tr>\n",
       "    <tr>\n",
       "      <th></th>\n",
       "      <th>mean</th>\n",
       "      <th>min</th>\n",
       "      <th>max</th>\n",
       "      <th>mean</th>\n",
       "      <th>min</th>\n",
       "      <th>max</th>\n",
       "    </tr>\n",
       "    <tr>\n",
       "      <th>single_adult</th>\n",
       "      <th></th>\n",
       "      <th></th>\n",
       "      <th></th>\n",
       "      <th></th>\n",
       "      <th></th>\n",
       "      <th></th>\n",
       "    </tr>\n",
       "  </thead>\n",
       "  <tbody>\n",
       "    <tr>\n",
       "      <th>N</th>\n",
       "      <td>2256.991936</td>\n",
       "      <td>6.8</td>\n",
       "      <td>2104114.1</td>\n",
       "      <td>14.332581</td>\n",
       "      <td>0.0</td>\n",
       "      <td>30.0</td>\n",
       "    </tr>\n",
       "    <tr>\n",
       "      <th>Y</th>\n",
       "      <td>2348.434012</td>\n",
       "      <td>5.0</td>\n",
       "      <td>2101976.9</td>\n",
       "      <td>14.402737</td>\n",
       "      <td>0.0</td>\n",
       "      <td>30.0</td>\n",
       "    </tr>\n",
       "  </tbody>\n",
       "</table>\n",
       "</div>"
      ],
      "text/plain": [
       "              total_spent                 order_frequency           \n",
       "                     mean  min        max            mean  min   max\n",
       "single_adult                                                        \n",
       "N             2256.991936  6.8  2104114.1       14.332581  0.0  30.0\n",
       "Y             2348.434012  5.0  2101976.9       14.402737  0.0  30.0"
      ]
     },
     "execution_count": 81,
     "metadata": {},
     "output_type": "execute_result"
    }
   ],
   "source": [
    "df_3.groupby('single_adult').agg({'total_spent' : ['mean', 'min', 'max'],\n",
    "                              'order_frequency' : ['mean', 'min', 'max']})"
   ]
  },
  {
   "cell_type": "markdown",
   "id": "e0854ee2-2a52-4174-9b90-3976d657764a",
   "metadata": {},
   "source": [
    "## 8. Compare customer profiles with regions and departments "
   ]
  },
  {
   "cell_type": "markdown",
   "id": "e1f4fd37-30d5-4444-b2b3-f933d7d4c788",
   "metadata": {},
   "source": [
    "### 8.1 Region Comparison"
   ]
  },
  {
   "cell_type": "markdown",
   "id": "3f4645cc-840b-41a4-a138-cf98fdad60c8",
   "metadata": {},
   "source": [
    "#### 8.1.a. Age Group "
   ]
  },
  {
   "cell_type": "code",
   "execution_count": 85,
   "id": "11b9b8f1-aa9f-46a0-90fb-2f5dbeb3b971",
   "metadata": {},
   "outputs": [],
   "source": [
    "# group by region and age\n",
    "age_region = df_3.groupby(['age_group', 'region'])['user_id'].nunique().reset_index(name='user_count')"
   ]
  },
  {
   "cell_type": "code",
   "execution_count": 86,
   "id": "9645cee3-2aac-4ba8-90b3-84ab5232de68",
   "metadata": {},
   "outputs": [
    {
     "data": {
      "text/html": [
       "<div>\n",
       "<style scoped>\n",
       "    .dataframe tbody tr th:only-of-type {\n",
       "        vertical-align: middle;\n",
       "    }\n",
       "\n",
       "    .dataframe tbody tr th {\n",
       "        vertical-align: top;\n",
       "    }\n",
       "\n",
       "    .dataframe thead th {\n",
       "        text-align: right;\n",
       "    }\n",
       "</style>\n",
       "<table border=\"1\" class=\"dataframe\">\n",
       "  <thead>\n",
       "    <tr style=\"text-align: right;\">\n",
       "      <th></th>\n",
       "      <th>age_group</th>\n",
       "      <th>region</th>\n",
       "      <th>user_count</th>\n",
       "    </tr>\n",
       "  </thead>\n",
       "  <tbody>\n",
       "    <tr>\n",
       "      <th>0</th>\n",
       "      <td>Adult</td>\n",
       "      <td>Midwest</td>\n",
       "      <td>23498</td>\n",
       "    </tr>\n",
       "    <tr>\n",
       "      <th>1</th>\n",
       "      <td>Adult</td>\n",
       "      <td>Northeast</td>\n",
       "      <td>17527</td>\n",
       "    </tr>\n",
       "    <tr>\n",
       "      <th>2</th>\n",
       "      <td>Adult</td>\n",
       "      <td>South</td>\n",
       "      <td>32910</td>\n",
       "    </tr>\n",
       "    <tr>\n",
       "      <th>3</th>\n",
       "      <td>Adult</td>\n",
       "      <td>West</td>\n",
       "      <td>25249</td>\n",
       "    </tr>\n",
       "    <tr>\n",
       "      <th>4</th>\n",
       "      <td>Senior</td>\n",
       "      <td>Midwest</td>\n",
       "      <td>10169</td>\n",
       "    </tr>\n",
       "    <tr>\n",
       "      <th>5</th>\n",
       "      <td>Senior</td>\n",
       "      <td>Northeast</td>\n",
       "      <td>7580</td>\n",
       "    </tr>\n",
       "    <tr>\n",
       "      <th>6</th>\n",
       "      <td>Senior</td>\n",
       "      <td>South</td>\n",
       "      <td>14433</td>\n",
       "    </tr>\n",
       "    <tr>\n",
       "      <th>7</th>\n",
       "      <td>Senior</td>\n",
       "      <td>West</td>\n",
       "      <td>11068</td>\n",
       "    </tr>\n",
       "    <tr>\n",
       "      <th>8</th>\n",
       "      <td>Young Adult</td>\n",
       "      <td>Midwest</td>\n",
       "      <td>4709</td>\n",
       "    </tr>\n",
       "    <tr>\n",
       "      <th>9</th>\n",
       "      <td>Young Adult</td>\n",
       "      <td>Northeast</td>\n",
       "      <td>3474</td>\n",
       "    </tr>\n",
       "    <tr>\n",
       "      <th>10</th>\n",
       "      <td>Young Adult</td>\n",
       "      <td>South</td>\n",
       "      <td>6850</td>\n",
       "    </tr>\n",
       "    <tr>\n",
       "      <th>11</th>\n",
       "      <td>Young Adult</td>\n",
       "      <td>West</td>\n",
       "      <td>5164</td>\n",
       "    </tr>\n",
       "  </tbody>\n",
       "</table>\n",
       "</div>"
      ],
      "text/plain": [
       "      age_group     region  user_count\n",
       "0         Adult    Midwest       23498\n",
       "1         Adult  Northeast       17527\n",
       "2         Adult      South       32910\n",
       "3         Adult       West       25249\n",
       "4        Senior    Midwest       10169\n",
       "5        Senior  Northeast        7580\n",
       "6        Senior      South       14433\n",
       "7        Senior       West       11068\n",
       "8   Young Adult    Midwest        4709\n",
       "9   Young Adult  Northeast        3474\n",
       "10  Young Adult      South        6850\n",
       "11  Young Adult       West        5164"
      ]
     },
     "execution_count": 86,
     "metadata": {},
     "output_type": "execute_result"
    }
   ],
   "source": [
    "age_region"
   ]
  },
  {
   "cell_type": "code",
   "execution_count": 87,
   "id": "9e18a01b-7df1-4f0f-979c-64ad3d87b6c2",
   "metadata": {},
   "outputs": [],
   "source": [
    "# pivot to visualize\n",
    "age_region_pivot = age_region.pivot(index='age_group', columns='region', values='user_count')"
   ]
  },
  {
   "cell_type": "code",
   "execution_count": 88,
   "id": "baecdc1f-cd6a-4448-8a07-6d0922ef3d4a",
   "metadata": {},
   "outputs": [
    {
     "data": {
      "text/html": [
       "<div>\n",
       "<style scoped>\n",
       "    .dataframe tbody tr th:only-of-type {\n",
       "        vertical-align: middle;\n",
       "    }\n",
       "\n",
       "    .dataframe tbody tr th {\n",
       "        vertical-align: top;\n",
       "    }\n",
       "\n",
       "    .dataframe thead th {\n",
       "        text-align: right;\n",
       "    }\n",
       "</style>\n",
       "<table border=\"1\" class=\"dataframe\">\n",
       "  <thead>\n",
       "    <tr style=\"text-align: right;\">\n",
       "      <th>region</th>\n",
       "      <th>Midwest</th>\n",
       "      <th>Northeast</th>\n",
       "      <th>South</th>\n",
       "      <th>West</th>\n",
       "    </tr>\n",
       "    <tr>\n",
       "      <th>age_group</th>\n",
       "      <th></th>\n",
       "      <th></th>\n",
       "      <th></th>\n",
       "      <th></th>\n",
       "    </tr>\n",
       "  </thead>\n",
       "  <tbody>\n",
       "    <tr>\n",
       "      <th>Adult</th>\n",
       "      <td>23498</td>\n",
       "      <td>17527</td>\n",
       "      <td>32910</td>\n",
       "      <td>25249</td>\n",
       "    </tr>\n",
       "    <tr>\n",
       "      <th>Senior</th>\n",
       "      <td>10169</td>\n",
       "      <td>7580</td>\n",
       "      <td>14433</td>\n",
       "      <td>11068</td>\n",
       "    </tr>\n",
       "    <tr>\n",
       "      <th>Young Adult</th>\n",
       "      <td>4709</td>\n",
       "      <td>3474</td>\n",
       "      <td>6850</td>\n",
       "      <td>5164</td>\n",
       "    </tr>\n",
       "  </tbody>\n",
       "</table>\n",
       "</div>"
      ],
      "text/plain": [
       "region       Midwest  Northeast  South   West\n",
       "age_group                                    \n",
       "Adult          23498      17527  32910  25249\n",
       "Senior         10169       7580  14433  11068\n",
       "Young Adult     4709       3474   6850   5164"
      ]
     },
     "execution_count": 88,
     "metadata": {},
     "output_type": "execute_result"
    }
   ],
   "source": [
    "age_region_pivot"
   ]
  },
  {
   "cell_type": "code",
   "execution_count": 426,
   "id": "80ba3d27-7375-45ae-b0ec-c7b576019910",
   "metadata": {},
   "outputs": [
    {
     "data": {
      "image/png": "[encoded data removed]",
      "text/plain": [
       "<Figure size 640x480 with 1 Axes>"
      ]
     },
     "metadata": {},
     "output_type": "display_data"
    }
   ],
   "source": [
    "# visualize\n",
    "age_region_usercount = age_region_pivot.plot(\n",
    "    kind = 'barh',\n",
    "    ylabel = '',\n",
    "    title = 'Age Group & Region by User Count'\n",
    ")\n",
    "plt.savefig(os.path.join(project_path, '04 Analysis', 'Visualizations', '4.10_age_region_usercount.png'))"
   ]
  },
  {
   "cell_type": "markdown",
   "id": "97945987-5fe8-43f2-898a-601bedcb3ef8",
   "metadata": {},
   "source": [
    "#### 8.1.b. Income Group"
   ]
  },
  {
   "cell_type": "code",
   "execution_count": 91,
   "id": "49c7660e-0b9a-43ea-a0a8-cf77672a9b67",
   "metadata": {},
   "outputs": [],
   "source": [
    "# group by region and income\n",
    "income_region = df_3.groupby(['income_group', 'region'])['user_id'].nunique().reset_index(name='user_count')"
   ]
  },
  {
   "cell_type": "code",
   "execution_count": 92,
   "id": "842b9b70-aecd-4133-99b0-780f32056efa",
   "metadata": {},
   "outputs": [],
   "source": [
    "# pivot to visualize\n",
    "income_region_pivot = income_region.pivot(index='income_group', columns='region', values='user_count')"
   ]
  },
  {
   "cell_type": "code",
   "execution_count": 428,
   "id": "0d5e2ced-a230-4568-b389-b589376000c5",
   "metadata": {},
   "outputs": [
    {
     "data": {
      "image/png": "[encoded data removed]",
      "text/plain": [
       "<Figure size 640x480 with 1 Axes>"
      ]
     },
     "metadata": {},
     "output_type": "display_data"
    }
   ],
   "source": [
    "# visualize\n",
    "income_region_pivot.plot(\n",
    "    kind = 'barh',\n",
    "    ylabel = '',\n",
    "    title = 'Income Group & Region by User Count'\n",
    ")\n",
    "plt.savefig(os.path.join(project_path, '04 Analysis', 'Visualizations', '4.10_income_region_usercount.png'))"
   ]
  },
  {
   "cell_type": "markdown",
   "id": "4ebd18fe-d6dc-4fe1-9853-319b7668632a",
   "metadata": {},
   "source": [
    "#### 8.1.c. Dependancy Group"
   ]
  },
  {
   "cell_type": "code",
   "execution_count": 95,
   "id": "178dfc51-e944-4cb9-905f-e2a101cdc5d7",
   "metadata": {},
   "outputs": [],
   "source": [
    "# group by region and income\n",
    "dependancy_region = df_3.groupby(['dependant_group', 'region'])['user_id'].nunique().reset_index(name='user_count')"
   ]
  },
  {
   "cell_type": "code",
   "execution_count": 96,
   "id": "f2bfbaa6-c8c9-444b-a53c-dbce2c43f26a",
   "metadata": {},
   "outputs": [],
   "source": [
    "# pivot to visualize\n",
    "dependancy_region_pivot = dependancy_region.pivot(index='dependant_group', columns='region', values='user_count')"
   ]
  },
  {
   "cell_type": "code",
   "execution_count": 430,
   "id": "613a1a51-ae10-437e-9aee-e1db037108a3",
   "metadata": {},
   "outputs": [
    {
     "data": {
      "image/png": "[encoded data removed]",
      "text/plain": [
       "<Figure size 640x480 with 1 Axes>"
      ]
     },
     "metadata": {},
     "output_type": "display_data"
    }
   ],
   "source": [
    "# visualize\n",
    "dependancy_region_pivot.plot(\n",
    "    kind = 'barh',\n",
    "    stacked = True,\n",
    "    ylabel = '',\n",
    "    title = 'Dependancy Group & Region by User Count'\n",
    ")\n",
    "plt.savefig(os.path.join(project_path, '04 Analysis', 'Visualizations', '4.10_dependancy_region_usercount.png'))"
   ]
  },
  {
   "cell_type": "markdown",
   "id": "542e049d-1c04-4c62-956c-bfb60ff1498b",
   "metadata": {},
   "source": [
    "#### 8.1.d. Department Group - Pet Owners"
   ]
  },
  {
   "cell_type": "code",
   "execution_count": 99,
   "id": "482a3486-addd-4e1b-931f-be226e675852",
   "metadata": {},
   "outputs": [],
   "source": [
    "# group by region and income\n",
    "pet_owner_region = df_3.groupby(['pet_owner', 'region'])['user_id'].nunique().reset_index(name='user_count')"
   ]
  },
  {
   "cell_type": "code",
   "execution_count": 100,
   "id": "560742a3-7977-4178-81bc-f09b0ddea096",
   "metadata": {},
   "outputs": [
    {
     "data": {
      "text/html": [
       "<div>\n",
       "<style scoped>\n",
       "    .dataframe tbody tr th:only-of-type {\n",
       "        vertical-align: middle;\n",
       "    }\n",
       "\n",
       "    .dataframe tbody tr th {\n",
       "        vertical-align: top;\n",
       "    }\n",
       "\n",
       "    .dataframe thead th {\n",
       "        text-align: right;\n",
       "    }\n",
       "</style>\n",
       "<table border=\"1\" class=\"dataframe\">\n",
       "  <thead>\n",
       "    <tr style=\"text-align: right;\">\n",
       "      <th></th>\n",
       "      <th>pet_owner</th>\n",
       "      <th>region</th>\n",
       "      <th>user_count</th>\n",
       "    </tr>\n",
       "  </thead>\n",
       "  <tbody>\n",
       "    <tr>\n",
       "      <th>0</th>\n",
       "      <td>N</td>\n",
       "      <td>Midwest</td>\n",
       "      <td>35263</td>\n",
       "    </tr>\n",
       "    <tr>\n",
       "      <th>1</th>\n",
       "      <td>N</td>\n",
       "      <td>Northeast</td>\n",
       "      <td>26282</td>\n",
       "    </tr>\n",
       "    <tr>\n",
       "      <th>2</th>\n",
       "      <td>N</td>\n",
       "      <td>South</td>\n",
       "      <td>49868</td>\n",
       "    </tr>\n",
       "    <tr>\n",
       "      <th>3</th>\n",
       "      <td>N</td>\n",
       "      <td>West</td>\n",
       "      <td>38043</td>\n",
       "    </tr>\n",
       "    <tr>\n",
       "      <th>4</th>\n",
       "      <td>Y</td>\n",
       "      <td>Midwest</td>\n",
       "      <td>3113</td>\n",
       "    </tr>\n",
       "    <tr>\n",
       "      <th>5</th>\n",
       "      <td>Y</td>\n",
       "      <td>Northeast</td>\n",
       "      <td>2299</td>\n",
       "    </tr>\n",
       "    <tr>\n",
       "      <th>6</th>\n",
       "      <td>Y</td>\n",
       "      <td>South</td>\n",
       "      <td>4325</td>\n",
       "    </tr>\n",
       "    <tr>\n",
       "      <th>7</th>\n",
       "      <td>Y</td>\n",
       "      <td>West</td>\n",
       "      <td>3438</td>\n",
       "    </tr>\n",
       "  </tbody>\n",
       "</table>\n",
       "</div>"
      ],
      "text/plain": [
       "  pet_owner     region  user_count\n",
       "0         N    Midwest       35263\n",
       "1         N  Northeast       26282\n",
       "2         N      South       49868\n",
       "3         N       West       38043\n",
       "4         Y    Midwest        3113\n",
       "5         Y  Northeast        2299\n",
       "6         Y      South        4325\n",
       "7         Y       West        3438"
      ]
     },
     "execution_count": 100,
     "metadata": {},
     "output_type": "execute_result"
    }
   ],
   "source": [
    "pet_owner_region"
   ]
  },
  {
   "cell_type": "code",
   "execution_count": 101,
   "id": "1c6ac14e-f5dc-467e-8807-3077937fbf80",
   "metadata": {},
   "outputs": [],
   "source": [
    "# pivot to visualize\n",
    "pet_owener_region_pivot = pet_owner_region.pivot(index='region', columns='pet_owner', values='user_count')"
   ]
  },
  {
   "cell_type": "code",
   "execution_count": 432,
   "id": "31f948d8-f19e-4a14-b31e-441d06d018d2",
   "metadata": {},
   "outputs": [
    {
     "data": {
      "image/png": "[encoded data removed]",
      "text/plain": [
       "<Figure size 640x480 with 1 Axes>"
      ]
     },
     "metadata": {},
     "output_type": "display_data"
    }
   ],
   "source": [
    "# visualize\n",
    "pet_owner_region_user_count = pet_owener_region_pivot.plot(\n",
    "    kind = 'barh',\n",
    "    stacked = True,\n",
    "    ylabel = '',\n",
    "    title = 'Pet Owner & Region by User Count'\n",
    ")\n",
    "plt.savefig(os.path.join(project_path, '04 Analysis', 'Visualizations', '4.10_petowner_region_usercount.png'))"
   ]
  },
  {
   "cell_type": "markdown",
   "id": "d7d1b62f-f610-4914-b150-2b207f54183b",
   "metadata": {},
   "source": [
    "### 8.1.e. Single Adults Group"
   ]
  },
  {
   "cell_type": "code",
   "execution_count": 104,
   "id": "23dcc13e-532e-44cd-b18f-1c4d17be5bdd",
   "metadata": {},
   "outputs": [],
   "source": [
    "# group by region and income\n",
    "single_adult_region = df_3.groupby(['single_adult', 'region'])['user_id'].nunique().reset_index(name='user_count')"
   ]
  },
  {
   "cell_type": "code",
   "execution_count": 105,
   "id": "24166969-e655-4a93-9eab-fb8245f22096",
   "metadata": {},
   "outputs": [
    {
     "data": {
      "text/html": [
       "<div>\n",
       "<style scoped>\n",
       "    .dataframe tbody tr th:only-of-type {\n",
       "        vertical-align: middle;\n",
       "    }\n",
       "\n",
       "    .dataframe tbody tr th {\n",
       "        vertical-align: top;\n",
       "    }\n",
       "\n",
       "    .dataframe thead th {\n",
       "        text-align: right;\n",
       "    }\n",
       "</style>\n",
       "<table border=\"1\" class=\"dataframe\">\n",
       "  <thead>\n",
       "    <tr style=\"text-align: right;\">\n",
       "      <th></th>\n",
       "      <th>single_adult</th>\n",
       "      <th>region</th>\n",
       "      <th>user_count</th>\n",
       "    </tr>\n",
       "  </thead>\n",
       "  <tbody>\n",
       "    <tr>\n",
       "      <th>0</th>\n",
       "      <td>N</td>\n",
       "      <td>Midwest</td>\n",
       "      <td>32017</td>\n",
       "    </tr>\n",
       "    <tr>\n",
       "      <th>1</th>\n",
       "      <td>N</td>\n",
       "      <td>Northeast</td>\n",
       "      <td>23797</td>\n",
       "    </tr>\n",
       "    <tr>\n",
       "      <th>2</th>\n",
       "      <td>N</td>\n",
       "      <td>South</td>\n",
       "      <td>45261</td>\n",
       "    </tr>\n",
       "    <tr>\n",
       "      <th>3</th>\n",
       "      <td>N</td>\n",
       "      <td>West</td>\n",
       "      <td>34660</td>\n",
       "    </tr>\n",
       "    <tr>\n",
       "      <th>4</th>\n",
       "      <td>Y</td>\n",
       "      <td>Midwest</td>\n",
       "      <td>6359</td>\n",
       "    </tr>\n",
       "    <tr>\n",
       "      <th>5</th>\n",
       "      <td>Y</td>\n",
       "      <td>Northeast</td>\n",
       "      <td>4784</td>\n",
       "    </tr>\n",
       "    <tr>\n",
       "      <th>6</th>\n",
       "      <td>Y</td>\n",
       "      <td>South</td>\n",
       "      <td>8932</td>\n",
       "    </tr>\n",
       "    <tr>\n",
       "      <th>7</th>\n",
       "      <td>Y</td>\n",
       "      <td>West</td>\n",
       "      <td>6821</td>\n",
       "    </tr>\n",
       "  </tbody>\n",
       "</table>\n",
       "</div>"
      ],
      "text/plain": [
       "  single_adult     region  user_count\n",
       "0            N    Midwest       32017\n",
       "1            N  Northeast       23797\n",
       "2            N      South       45261\n",
       "3            N       West       34660\n",
       "4            Y    Midwest        6359\n",
       "5            Y  Northeast        4784\n",
       "6            Y      South        8932\n",
       "7            Y       West        6821"
      ]
     },
     "execution_count": 105,
     "metadata": {},
     "output_type": "execute_result"
    }
   ],
   "source": [
    "single_adult_region"
   ]
  },
  {
   "cell_type": "code",
   "execution_count": 191,
   "id": "94c4f18f-28b4-4216-b806-0938577a9271",
   "metadata": {},
   "outputs": [],
   "source": [
    "# pivot to visualize\n",
    "single_adult_region_pivot = single_adult_region.pivot(index='region', columns='single_adult', values='user_count')"
   ]
  },
  {
   "cell_type": "code",
   "execution_count": 434,
   "id": "5d6d813e-5b1b-4b76-acea-130b5b4b7ceb",
   "metadata": {},
   "outputs": [
    {
     "data": {
      "image/png": "[encoded data removed]",
      "text/plain": [
       "<Figure size 640x480 with 1 Axes>"
      ]
     },
     "metadata": {},
     "output_type": "display_data"
    }
   ],
   "source": [
    "# visualize\n",
    "single_adult_region_pivot.plot(\n",
    "    kind = 'barh',\n",
    "    stacked = True,\n",
    "    ylabel = '',\n",
    "    title = 'Single Adult & Region by User Count'\n",
    ")\n",
    "plt.savefig(os.path.join(project_path, '04 Analysis', 'Visualizations', '4.10_singleadult_region_usercount.png'))"
   ]
  },
  {
   "cell_type": "markdown",
   "id": "e9fa75f3-8602-4359-b861-b1031d0aae03",
   "metadata": {},
   "source": [
    "### 8.2 Department comparison "
   ]
  },
  {
   "cell_type": "code",
   "execution_count": 324,
   "id": "64ebae31-0df1-453e-83c8-97a1052dc7b4",
   "metadata": {},
   "outputs": [],
   "source": [
    "# create df_4 for order and department level\n",
    "# aggregate df to customer level\n",
    "df_4 = df_2.groupby(['order_id', 'department_id', 'max_order', 'age_group', 'income_group', 'dependant_group', 'pet_owner', 'single_adult', 'region']).agg(\n",
    "    total_spent=('prices', 'sum')\n",
    ").reset_index()"
   ]
  },
  {
   "cell_type": "code",
   "execution_count": 325,
   "id": "2e951c3e-383e-4cc1-8810-d79599b21c1a",
   "metadata": {},
   "outputs": [],
   "source": [
    "df_dep.columns = ['department_id', 'department']"
   ]
  },
  {
   "cell_type": "code",
   "execution_count": 326,
   "id": "224c03e1-943e-4790-b3f9-dc98b946ceb5",
   "metadata": {},
   "outputs": [],
   "source": [
    "# merge df_4 with department name\n",
    "df_4 = pd.merge(df_4, df_dep, on = 'department_id')"
   ]
  },
  {
   "cell_type": "code",
   "execution_count": 327,
   "id": "adc95ddf-a15e-4dfc-be41-142e558bfd32",
   "metadata": {},
   "outputs": [],
   "source": [
    "# get top 3 departments\n",
    "top_3_departments = df_4.groupby(['department'])['order_id'].nunique().reset_index().sort_values(by = 'order_id', ascending = False)"
   ]
  },
  {
   "cell_type": "code",
   "execution_count": 333,
   "id": "94c38c2b-1c22-4de7-8875-6a516fb32953",
   "metadata": {},
   "outputs": [],
   "source": [
    "# filter df_4 for top_3 departments only\n",
    "top_3_departments = top_3_departments.reset_index(drop = True).head(3)"
   ]
  },
  {
   "cell_type": "code",
   "execution_count": 335,
   "id": "a9492103-405b-4c9e-926c-4c9bec6ea2a0",
   "metadata": {},
   "outputs": [],
   "source": [
    "df_4 = df_4[df_4['department'].isin(top_3_departments['department'])]"
   ]
  },
  {
   "cell_type": "markdown",
   "id": "472919f4-c3fe-4e60-8715-2be17cc2deb0",
   "metadata": {},
   "source": [
    "#### 8.2.a. Age Group"
   ]
  },
  {
   "cell_type": "code",
   "execution_count": 379,
   "id": "2c526b1e-235d-448f-a05d-54fc824f459f",
   "metadata": {},
   "outputs": [
    {
     "data": {
      "text/html": [
       "<div>\n",
       "<style scoped>\n",
       "    .dataframe tbody tr th:only-of-type {\n",
       "        vertical-align: middle;\n",
       "    }\n",
       "\n",
       "    .dataframe tbody tr th {\n",
       "        vertical-align: top;\n",
       "    }\n",
       "\n",
       "    .dataframe thead th {\n",
       "        text-align: right;\n",
       "    }\n",
       "</style>\n",
       "<table border=\"1\" class=\"dataframe\">\n",
       "  <thead>\n",
       "    <tr style=\"text-align: right;\">\n",
       "      <th></th>\n",
       "      <th>department</th>\n",
       "      <th>age_group</th>\n",
       "      <th>order_count</th>\n",
       "    </tr>\n",
       "  </thead>\n",
       "  <tbody>\n",
       "    <tr>\n",
       "      <th>0</th>\n",
       "      <td>beverages</td>\n",
       "      <td>Adult</td>\n",
       "      <td>848052</td>\n",
       "    </tr>\n",
       "    <tr>\n",
       "      <th>1</th>\n",
       "      <td>beverages</td>\n",
       "      <td>Senior</td>\n",
       "      <td>370488</td>\n",
       "    </tr>\n",
       "    <tr>\n",
       "      <th>2</th>\n",
       "      <td>beverages</td>\n",
       "      <td>Young Adult</td>\n",
       "      <td>172964</td>\n",
       "    </tr>\n",
       "    <tr>\n",
       "      <th>3</th>\n",
       "      <td>dairy eggs</td>\n",
       "      <td>Adult</td>\n",
       "      <td>1269977</td>\n",
       "    </tr>\n",
       "    <tr>\n",
       "      <th>4</th>\n",
       "      <td>dairy eggs</td>\n",
       "      <td>Senior</td>\n",
       "      <td>551742</td>\n",
       "    </tr>\n",
       "  </tbody>\n",
       "</table>\n",
       "</div>"
      ],
      "text/plain": [
       "   department    age_group  order_count\n",
       "0   beverages        Adult       848052\n",
       "1   beverages       Senior       370488\n",
       "2   beverages  Young Adult       172964\n",
       "3  dairy eggs        Adult      1269977\n",
       "4  dairy eggs       Senior       551742"
      ]
     },
     "execution_count": 379,
     "metadata": {},
     "output_type": "execute_result"
    }
   ],
   "source": [
    "# group by department and age\n",
    "age_department = df_4.groupby(['department', 'age_group'])['order_id'].nunique().reset_index(name='order_count')\n",
    "age_department.head()"
   ]
  },
  {
   "cell_type": "code",
   "execution_count": 383,
   "id": "bca699b6-e291-4998-9e67-6515e557ca2d",
   "metadata": {},
   "outputs": [],
   "source": [
    "# pivot to visualize\n",
    "age_department_pivot = age_department.pivot(index='department', columns='age_group', values='order_count')"
   ]
  },
  {
   "cell_type": "code",
   "execution_count": 349,
   "id": "1f105ec5-99ce-4dd7-9f80-826322ce552f",
   "metadata": {},
   "outputs": [
    {
     "data": {
      "text/html": [
       "<div>\n",
       "<style scoped>\n",
       "    .dataframe tbody tr th:only-of-type {\n",
       "        vertical-align: middle;\n",
       "    }\n",
       "\n",
       "    .dataframe tbody tr th {\n",
       "        vertical-align: top;\n",
       "    }\n",
       "\n",
       "    .dataframe thead th {\n",
       "        text-align: right;\n",
       "    }\n",
       "</style>\n",
       "<table border=\"1\" class=\"dataframe\">\n",
       "  <thead>\n",
       "    <tr style=\"text-align: right;\">\n",
       "      <th>age_group</th>\n",
       "      <th>Adult</th>\n",
       "      <th>Senior</th>\n",
       "      <th>Young Adult</th>\n",
       "    </tr>\n",
       "    <tr>\n",
       "      <th>department</th>\n",
       "      <th></th>\n",
       "      <th></th>\n",
       "      <th></th>\n",
       "    </tr>\n",
       "  </thead>\n",
       "  <tbody>\n",
       "    <tr>\n",
       "      <th>beverages</th>\n",
       "      <td>848052</td>\n",
       "      <td>370488</td>\n",
       "      <td>172964</td>\n",
       "    </tr>\n",
       "    <tr>\n",
       "      <th>dairy eggs</th>\n",
       "      <td>1269977</td>\n",
       "      <td>551742</td>\n",
       "      <td>258453</td>\n",
       "    </tr>\n",
       "    <tr>\n",
       "      <th>produce</th>\n",
       "      <td>1404385</td>\n",
       "      <td>612013</td>\n",
       "      <td>287285</td>\n",
       "    </tr>\n",
       "  </tbody>\n",
       "</table>\n",
       "</div>"
      ],
      "text/plain": [
       "age_group     Adult  Senior  Young Adult\n",
       "department                              \n",
       "beverages    848052  370488       172964\n",
       "dairy eggs  1269977  551742       258453\n",
       "produce     1404385  612013       287285"
      ]
     },
     "execution_count": 349,
     "metadata": {},
     "output_type": "execute_result"
    }
   ],
   "source": [
    "age_department_pivot"
   ]
  },
  {
   "cell_type": "code",
   "execution_count": 436,
   "id": "b5fd8152-b693-4787-8cbd-e0639b223035",
   "metadata": {},
   "outputs": [
    {
     "data": {
      "image/png": "[encoded data removed]",
      "text/plain": [
       "<Figure size 640x480 with 1 Axes>"
      ]
     },
     "metadata": {},
     "output_type": "display_data"
    }
   ],
   "source": [
    "# visualize\n",
    "age_department_pivot.plot(\n",
    "    kind = 'barh',\n",
    "    ylabel = '',\n",
    "    title = 'Top 3 Departments & Age Group by Order Count'\n",
    ")\n",
    "plt.savefig(os.path.join(project_path, '04 Analysis', 'Visualizations', '4.10_department_agegroup_usercount.png'))"
   ]
  },
  {
   "cell_type": "markdown",
   "id": "c093f682-0d79-45c9-8e55-89eb7ab23f22",
   "metadata": {},
   "source": [
    "#### 8.2.b. Income Group"
   ]
  },
  {
   "cell_type": "code",
   "execution_count": 390,
   "id": "b10452e1-92d2-4d38-ada5-b354d4784924",
   "metadata": {},
   "outputs": [],
   "source": [
    "# group by department and income group\n",
    "income_department = df_4.groupby(['department', 'income_group'])['order_id'].nunique().reset_index(name = 'order_count')"
   ]
  },
  {
   "cell_type": "code",
   "execution_count": 391,
   "id": "a9f3ccd5-2a12-4405-b288-616c7add6a0d",
   "metadata": {},
   "outputs": [
    {
     "data": {
      "text/html": [
       "<div>\n",
       "<style scoped>\n",
       "    .dataframe tbody tr th:only-of-type {\n",
       "        vertical-align: middle;\n",
       "    }\n",
       "\n",
       "    .dataframe tbody tr th {\n",
       "        vertical-align: top;\n",
       "    }\n",
       "\n",
       "    .dataframe thead th {\n",
       "        text-align: right;\n",
       "    }\n",
       "</style>\n",
       "<table border=\"1\" class=\"dataframe\">\n",
       "  <thead>\n",
       "    <tr style=\"text-align: right;\">\n",
       "      <th></th>\n",
       "      <th>department</th>\n",
       "      <th>income_group</th>\n",
       "      <th>order_count</th>\n",
       "    </tr>\n",
       "  </thead>\n",
       "  <tbody>\n",
       "    <tr>\n",
       "      <th>0</th>\n",
       "      <td>beverages</td>\n",
       "      <td>High</td>\n",
       "      <td>610741</td>\n",
       "    </tr>\n",
       "    <tr>\n",
       "      <th>1</th>\n",
       "      <td>beverages</td>\n",
       "      <td>Low</td>\n",
       "      <td>99074</td>\n",
       "    </tr>\n",
       "    <tr>\n",
       "      <th>2</th>\n",
       "      <td>beverages</td>\n",
       "      <td>Middle</td>\n",
       "      <td>681689</td>\n",
       "    </tr>\n",
       "    <tr>\n",
       "      <th>3</th>\n",
       "      <td>dairy eggs</td>\n",
       "      <td>High</td>\n",
       "      <td>951432</td>\n",
       "    </tr>\n",
       "    <tr>\n",
       "      <th>4</th>\n",
       "      <td>dairy eggs</td>\n",
       "      <td>Low</td>\n",
       "      <td>110895</td>\n",
       "    </tr>\n",
       "  </tbody>\n",
       "</table>\n",
       "</div>"
      ],
      "text/plain": [
       "   department income_group  order_count\n",
       "0   beverages         High       610741\n",
       "1   beverages          Low        99074\n",
       "2   beverages       Middle       681689\n",
       "3  dairy eggs         High       951432\n",
       "4  dairy eggs          Low       110895"
      ]
     },
     "execution_count": 391,
     "metadata": {},
     "output_type": "execute_result"
    }
   ],
   "source": [
    "income_department.head()"
   ]
  },
  {
   "cell_type": "code",
   "execution_count": 394,
   "id": "d3e3157d-d834-4569-8bd4-16d1f0f36e2b",
   "metadata": {},
   "outputs": [],
   "source": [
    "# pivot to visualize\n",
    "income_department_pivot = income_department.pivot(index='department', columns='income_group', values='order_count')"
   ]
  },
  {
   "cell_type": "code",
   "execution_count": 396,
   "id": "70740b4a-bf3d-4d84-b899-97a5e0b02666",
   "metadata": {},
   "outputs": [
    {
     "data": {
      "text/html": [
       "<div>\n",
       "<style scoped>\n",
       "    .dataframe tbody tr th:only-of-type {\n",
       "        vertical-align: middle;\n",
       "    }\n",
       "\n",
       "    .dataframe tbody tr th {\n",
       "        vertical-align: top;\n",
       "    }\n",
       "\n",
       "    .dataframe thead th {\n",
       "        text-align: right;\n",
       "    }\n",
       "</style>\n",
       "<table border=\"1\" class=\"dataframe\">\n",
       "  <thead>\n",
       "    <tr style=\"text-align: right;\">\n",
       "      <th>age_group</th>\n",
       "      <th>Adult</th>\n",
       "      <th>Senior</th>\n",
       "      <th>Young Adult</th>\n",
       "    </tr>\n",
       "    <tr>\n",
       "      <th>department</th>\n",
       "      <th></th>\n",
       "      <th></th>\n",
       "      <th></th>\n",
       "    </tr>\n",
       "  </thead>\n",
       "  <tbody>\n",
       "    <tr>\n",
       "      <th>beverages</th>\n",
       "      <td>848052</td>\n",
       "      <td>370488</td>\n",
       "      <td>172964</td>\n",
       "    </tr>\n",
       "    <tr>\n",
       "      <th>dairy eggs</th>\n",
       "      <td>1269977</td>\n",
       "      <td>551742</td>\n",
       "      <td>258453</td>\n",
       "    </tr>\n",
       "    <tr>\n",
       "      <th>produce</th>\n",
       "      <td>1404385</td>\n",
       "      <td>612013</td>\n",
       "      <td>287285</td>\n",
       "    </tr>\n",
       "  </tbody>\n",
       "</table>\n",
       "</div>"
      ],
      "text/plain": [
       "age_group     Adult  Senior  Young Adult\n",
       "department                              \n",
       "beverages    848052  370488       172964\n",
       "dairy eggs  1269977  551742       258453\n",
       "produce     1404385  612013       287285"
      ]
     },
     "execution_count": 396,
     "metadata": {},
     "output_type": "execute_result"
    }
   ],
   "source": [
    "age_department_pivot"
   ]
  },
  {
   "cell_type": "code",
   "execution_count": 438,
   "id": "48d71d02-811c-423d-bac3-28697cfb127f",
   "metadata": {},
   "outputs": [
    {
     "data": {
      "image/png": "[encoded data removed]",
      "text/plain": [
       "<Figure size 640x480 with 1 Axes>"
      ]
     },
     "metadata": {},
     "output_type": "display_data"
    }
   ],
   "source": [
    "# visualize\n",
    "income_department_pivot.plot(\n",
    "    kind = 'barh',\n",
    "    ylabel = '',\n",
    "    title = 'Top 3 Departments & Income Group by Order Count'\n",
    ")\n",
    "plt.savefig(os.path.join(project_path, '04 Analysis', 'Visualizations', '4.10_department_incomegroup_usercount.png'))"
   ]
  },
  {
   "cell_type": "markdown",
   "id": "7856cad8-7749-4d0b-bd05-3904e6c3511e",
   "metadata": {},
   "source": [
    "## Additional analysis"
   ]
  },
  {
   "cell_type": "markdown",
   "id": "a58aa889-6bec-43f6-a32c-6786da6210b5",
   "metadata": {
    "jp-MarkdownHeadingCollapsed": true
   },
   "source": [
    "### Key Question 1: The sales team needs to know what the busiest days of the week and hours of the day are (i.e., the days and times with the most orders) in order to schedule ads at times when there are fewer orders"
   ]
  },
  {
   "cell_type": "code",
   "execution_count": 900,
   "id": "d6ec983b-824b-4603-be67-90e23605f375",
   "metadata": {},
   "outputs": [],
   "source": [
    "order_dow_frequency = df_2.groupby(['orders_day_of_week'])['order_id'].nunique().reset_index()"
   ]
  },
  {
   "cell_type": "code",
   "execution_count": 901,
   "id": "6d1ec102-a13c-40f2-acd4-b3f1083ba5e6",
   "metadata": {},
   "outputs": [
    {
     "data": {
      "text/html": [
       "<div>\n",
       "<style scoped>\n",
       "    .dataframe tbody tr th:only-of-type {\n",
       "        vertical-align: middle;\n",
       "    }\n",
       "\n",
       "    .dataframe tbody tr th {\n",
       "        vertical-align: top;\n",
       "    }\n",
       "\n",
       "    .dataframe thead th {\n",
       "        text-align: right;\n",
       "    }\n",
       "</style>\n",
       "<table border=\"1\" class=\"dataframe\">\n",
       "  <thead>\n",
       "    <tr style=\"text-align: right;\">\n",
       "      <th></th>\n",
       "      <th>orders_day_of_week</th>\n",
       "      <th>order_id</th>\n",
       "    </tr>\n",
       "  </thead>\n",
       "  <tbody>\n",
       "    <tr>\n",
       "      <th>0</th>\n",
       "      <td>0</td>\n",
       "      <td>529224</td>\n",
       "    </tr>\n",
       "    <tr>\n",
       "      <th>1</th>\n",
       "      <td>1</td>\n",
       "      <td>531258</td>\n",
       "    </tr>\n",
       "    <tr>\n",
       "      <th>2</th>\n",
       "      <td>2</td>\n",
       "      <td>421534</td>\n",
       "    </tr>\n",
       "    <tr>\n",
       "      <th>3</th>\n",
       "      <td>3</td>\n",
       "      <td>393439</td>\n",
       "    </tr>\n",
       "    <tr>\n",
       "      <th>4</th>\n",
       "      <td>4</td>\n",
       "      <td>383531</td>\n",
       "    </tr>\n",
       "    <tr>\n",
       "      <th>5</th>\n",
       "      <td>5</td>\n",
       "      <td>407456</td>\n",
       "    </tr>\n",
       "    <tr>\n",
       "      <th>6</th>\n",
       "      <td>6</td>\n",
       "      <td>397933</td>\n",
       "    </tr>\n",
       "  </tbody>\n",
       "</table>\n",
       "</div>"
      ],
      "text/plain": [
       "   orders_day_of_week  order_id\n",
       "0                   0    529224\n",
       "1                   1    531258\n",
       "2                   2    421534\n",
       "3                   3    393439\n",
       "4                   4    383531\n",
       "5                   5    407456\n",
       "6                   6    397933"
      ]
     },
     "execution_count": 901,
     "metadata": {},
     "output_type": "execute_result"
    }
   ],
   "source": [
    "order_dow_frequency"
   ]
  },
  {
   "cell_type": "code",
   "execution_count": 894,
   "id": "f601446d-d7e7-47ec-9cac-8451ef6f580e",
   "metadata": {},
   "outputs": [],
   "source": [
    "dow_map = {\n",
    "    0: 'Sat',\n",
    "    1: 'Sun',\n",
    "    2: 'Mon',\n",
    "    3: 'Tue',\n",
    "    4: 'Wed',\n",
    "    5: 'Thr',\n",
    "    6: 'Fri'\n",
    "}"
   ]
  },
  {
   "cell_type": "code",
   "execution_count": 904,
   "id": "fc18c671-810b-444d-b83e-80b439e80d23",
   "metadata": {},
   "outputs": [],
   "source": [
    "order_dow_frequency['orders_day_of_week_name'] = order_dow_frequency['orders_day_of_week'].replace(dow_map)"
   ]
  },
  {
   "cell_type": "code",
   "execution_count": 924,
   "id": "f222550c-b047-4df6-bbaa-cb9b16a1b4f8",
   "metadata": {},
   "outputs": [
    {
     "data": {
      "text/html": [
       "<div>\n",
       "<style scoped>\n",
       "    .dataframe tbody tr th:only-of-type {\n",
       "        vertical-align: middle;\n",
       "    }\n",
       "\n",
       "    .dataframe tbody tr th {\n",
       "        vertical-align: top;\n",
       "    }\n",
       "\n",
       "    .dataframe thead th {\n",
       "        text-align: right;\n",
       "    }\n",
       "</style>\n",
       "<table border=\"1\" class=\"dataframe\">\n",
       "  <thead>\n",
       "    <tr style=\"text-align: right;\">\n",
       "      <th></th>\n",
       "      <th>orders_day_of_week</th>\n",
       "      <th>order_id</th>\n",
       "      <th>orders_day_of_week_name</th>\n",
       "    </tr>\n",
       "  </thead>\n",
       "  <tbody>\n",
       "    <tr>\n",
       "      <th>0</th>\n",
       "      <td>0</td>\n",
       "      <td>529224</td>\n",
       "      <td>Sat</td>\n",
       "    </tr>\n",
       "    <tr>\n",
       "      <th>1</th>\n",
       "      <td>1</td>\n",
       "      <td>531258</td>\n",
       "      <td>Sun</td>\n",
       "    </tr>\n",
       "    <tr>\n",
       "      <th>2</th>\n",
       "      <td>2</td>\n",
       "      <td>421534</td>\n",
       "      <td>Mon</td>\n",
       "    </tr>\n",
       "    <tr>\n",
       "      <th>3</th>\n",
       "      <td>3</td>\n",
       "      <td>393439</td>\n",
       "      <td>Tue</td>\n",
       "    </tr>\n",
       "    <tr>\n",
       "      <th>4</th>\n",
       "      <td>4</td>\n",
       "      <td>383531</td>\n",
       "      <td>Wed</td>\n",
       "    </tr>\n",
       "    <tr>\n",
       "      <th>5</th>\n",
       "      <td>5</td>\n",
       "      <td>407456</td>\n",
       "      <td>Thr</td>\n",
       "    </tr>\n",
       "    <tr>\n",
       "      <th>6</th>\n",
       "      <td>6</td>\n",
       "      <td>397933</td>\n",
       "      <td>Fri</td>\n",
       "    </tr>\n",
       "  </tbody>\n",
       "</table>\n",
       "</div>"
      ],
      "text/plain": [
       "   orders_day_of_week  order_id orders_day_of_week_name\n",
       "0                   0    529224                     Sat\n",
       "1                   1    531258                     Sun\n",
       "2                   2    421534                     Mon\n",
       "3                   3    393439                     Tue\n",
       "4                   4    383531                     Wed\n",
       "5                   5    407456                     Thr\n",
       "6                   6    397933                     Fri"
      ]
     },
     "execution_count": 924,
     "metadata": {},
     "output_type": "execute_result"
    }
   ],
   "source": [
    "order_dow_frequency"
   ]
  },
  {
   "cell_type": "code",
   "execution_count": 932,
   "id": "57e53f9f-fae0-49ed-af95-07f3a6fb4c64",
   "metadata": {},
   "outputs": [],
   "source": [
    "order_dow_frequency_2 = order_dow_frequency[['orders_day_of_week_name','order_id']].set_index('orders_day_of_week_name')"
   ]
  },
  {
   "cell_type": "code",
   "execution_count": 940,
   "id": "36b1739f-a7b0-4442-b94d-80bcdb8c757e",
   "metadata": {},
   "outputs": [
    {
     "data": {
      "image/png": "[encoded data removed]",
      "text/plain": [
       "<Figure size 640x480 with 1 Axes>"
      ]
     },
     "metadata": {},
     "output_type": "display_data"
    }
   ],
   "source": [
    "order_dow_frequency_2.plot(\n",
    "    legend = False,\n",
    "    title = 'Order Count by Day of Week',\n",
    "    xlabel =''\n",
    ")\n",
    "plt.savefig(os.path.join(project_path, '04 Analysis', 'Visualizations', 'order_count_by_dow.png'))"
   ]
  },
  {
   "cell_type": "code",
   "execution_count": 956,
   "id": "8e53face-820a-4ea3-a958-5a0291cb1ac3",
   "metadata": {},
   "outputs": [],
   "source": [
    "price_by_hod = df_2.groupby('order_hour_of_day').agg(sum_of_sales = ('prices','mean'))"
   ]
  },
  {
   "cell_type": "code",
   "execution_count": 958,
   "id": "feff05d0-e324-43f7-9bda-60d15718eca4",
   "metadata": {},
   "outputs": [
    {
     "data": {
      "text/plain": [
       "<Axes: xlabel='order_hour_of_day'>"
      ]
     },
     "execution_count": 958,
     "metadata": {},
     "output_type": "execute_result"
    },
    {
     "data": {
      "image/png": "[encoded data removed]",
      "text/plain": [
       "<Figure size 640x480 with 1 Axes>"
      ]
     },
     "metadata": {},
     "output_type": "display_data"
    }
   ],
   "source": [
    "price_by_hod.plot()"
   ]
  },
  {
   "cell_type": "code",
   "execution_count": null,
   "id": "3b0e3cb0-2130-4c33-ba26-fdabc28dc5c3",
   "metadata": {},
   "outputs": [],
   "source": []
  },
  {
   "cell_type": "markdown",
   "id": "4e7fe053-a2c3-4b53-a63a-70efbefcede7",
   "metadata": {
    "jp-MarkdownHeadingCollapsed": true
   },
   "source": [
    "### Key Question 3: Instacart has a lot of products with different price tags. Marketing and sales wants to use simpler price range groupings to help direct their efforts"
   ]
  },
  {
   "cell_type": "code",
   "execution_count": 448,
   "id": "eeb76e40-fd31-4cc8-8a63-d72cb90fd80d",
   "metadata": {},
   "outputs": [],
   "source": [
    "pd.set_option('display.max_columns', None)"
   ]
  },
  {
   "cell_type": "code",
   "execution_count": 450,
   "id": "6c88d34e-aa29-42e2-b2ca-fb668de15994",
   "metadata": {},
   "outputs": [
    {
     "data": {
      "text/html": [
       "<div>\n",
       "<style scoped>\n",
       "    .dataframe tbody tr th:only-of-type {\n",
       "        vertical-align: middle;\n",
       "    }\n",
       "\n",
       "    .dataframe tbody tr th {\n",
       "        vertical-align: top;\n",
       "    }\n",
       "\n",
       "    .dataframe thead th {\n",
       "        text-align: right;\n",
       "    }\n",
       "</style>\n",
       "<table border=\"1\" class=\"dataframe\">\n",
       "  <thead>\n",
       "    <tr style=\"text-align: right;\">\n",
       "      <th></th>\n",
       "      <th>order_id</th>\n",
       "      <th>user_id</th>\n",
       "      <th>order_number</th>\n",
       "      <th>orders_day_of_week</th>\n",
       "      <th>order_hour_of_day</th>\n",
       "      <th>days_since_prior_order</th>\n",
       "      <th>first_order</th>\n",
       "      <th>product_id</th>\n",
       "      <th>add_to_cart_order</th>\n",
       "      <th>reordered</th>\n",
       "      <th>product_name</th>\n",
       "      <th>aisle_id</th>\n",
       "      <th>department_id</th>\n",
       "      <th>prices</th>\n",
       "      <th>price_range_loc</th>\n",
       "      <th>busiest_day</th>\n",
       "      <th>busiest_day_2</th>\n",
       "      <th>busiest_period_of_day</th>\n",
       "      <th>max_order</th>\n",
       "      <th>loyalty_flag</th>\n",
       "      <th>user_average_price</th>\n",
       "      <th>user_spender_type</th>\n",
       "      <th>user_median_days_since</th>\n",
       "      <th>user_order_frequency_flag</th>\n",
       "      <th>gender</th>\n",
       "      <th>state</th>\n",
       "      <th>age</th>\n",
       "      <th>date_joined</th>\n",
       "      <th>n_dependants</th>\n",
       "      <th>fam_status</th>\n",
       "      <th>income</th>\n",
       "      <th>region</th>\n",
       "    </tr>\n",
       "  </thead>\n",
       "  <tbody>\n",
       "    <tr>\n",
       "      <th>0</th>\n",
       "      <td>2539329</td>\n",
       "      <td>1</td>\n",
       "      <td>1</td>\n",
       "      <td>2</td>\n",
       "      <td>8</td>\n",
       "      <td>NaN</td>\n",
       "      <td>True</td>\n",
       "      <td>196</td>\n",
       "      <td>1</td>\n",
       "      <td>0</td>\n",
       "      <td>Soda</td>\n",
       "      <td>77</td>\n",
       "      <td>7</td>\n",
       "      <td>9.0</td>\n",
       "      <td>Mid-range product</td>\n",
       "      <td>Regularly busy</td>\n",
       "      <td>Regularly busy days</td>\n",
       "      <td>Most orders</td>\n",
       "      <td>10</td>\n",
       "      <td>New customer</td>\n",
       "      <td>6.367797</td>\n",
       "      <td>Low spender</td>\n",
       "      <td>20.5</td>\n",
       "      <td>Non-frequent customer</td>\n",
       "      <td>Female</td>\n",
       "      <td>Alabama</td>\n",
       "      <td>31</td>\n",
       "      <td>2/17/2019</td>\n",
       "      <td>3</td>\n",
       "      <td>married</td>\n",
       "      <td>40423</td>\n",
       "      <td>South</td>\n",
       "    </tr>\n",
       "  </tbody>\n",
       "</table>\n",
       "</div>"
      ],
      "text/plain": [
       "   order_id user_id  order_number  orders_day_of_week  order_hour_of_day  \\\n",
       "0   2539329       1             1                   2                  8   \n",
       "\n",
       "   days_since_prior_order  first_order  product_id  add_to_cart_order  \\\n",
       "0                     NaN         True         196                  1   \n",
       "\n",
       "   reordered product_name  aisle_id  department_id  prices    price_range_loc  \\\n",
       "0          0         Soda        77              7     9.0  Mid-range product   \n",
       "\n",
       "      busiest_day        busiest_day_2 busiest_period_of_day  max_order  \\\n",
       "0  Regularly busy  Regularly busy days           Most orders         10   \n",
       "\n",
       "   loyalty_flag  user_average_price user_spender_type  user_median_days_since  \\\n",
       "0  New customer            6.367797       Low spender                    20.5   \n",
       "\n",
       "  user_order_frequency_flag  gender    state  age date_joined  n_dependants  \\\n",
       "0     Non-frequent customer  Female  Alabama   31   2/17/2019             3   \n",
       "\n",
       "  fam_status  income region  \n",
       "0    married   40423  South  "
      ]
     },
     "execution_count": 450,
     "metadata": {},
     "output_type": "execute_result"
    }
   ],
   "source": [
    "df.head(1)"
   ]
  },
  {
   "cell_type": "code",
   "execution_count": 454,
   "id": "d88d9654-ed91-493f-a6f0-4023fbf5b896",
   "metadata": {},
   "outputs": [],
   "source": [
    "price_range = df_2.groupby('price_range_loc')['product_id'].nunique()"
   ]
  },
  {
   "cell_type": "code",
   "execution_count": null,
   "id": "ceb42f48-372c-4cf7-8df8-c348dd24ae60",
   "metadata": {},
   "outputs": [],
   "source": []
  },
  {
   "cell_type": "code",
   "execution_count": 474,
   "id": "82cb542a-c3b6-413e-8db9-554acbf324eb",
   "metadata": {},
   "outputs": [
    {
     "data": {
      "image/png": "[encoded data removed]",
      "text/plain": [
       "<Figure size 640x480 with 1 Axes>"
      ]
     },
     "metadata": {},
     "output_type": "display_data"
    }
   ],
   "source": [
    "price_range.plot(\n",
    "    kind = 'barh',\n",
    "    title = 'Product Count by price range',\n",
    "    ylabel =''\n",
    ")\n",
    "plt.tight_layout() # adjustment to see y label\n",
    "plt.savefig(os.path.join(project_path, '04 Analysis', 'Visualizations', 'product_count_by_price_range.png'))"
   ]
  },
  {
   "cell_type": "markdown",
   "id": "73a48f6f-dc58-47f2-90f0-99064ea4169f",
   "metadata": {
    "jp-MarkdownHeadingCollapsed": true
   },
   "source": [
    "### Key Question 4: Are there certain types of products that are more popular than others? The marketing and sales teams want to know which departments have the highest frequency of product orders"
   ]
  },
  {
   "cell_type": "code",
   "execution_count": 510,
   "id": "c1fe8719-0e55-496a-a1af-40ec169e1c8a",
   "metadata": {},
   "outputs": [],
   "source": [
    "orders_by_department = df_2.groupby('department_id')['order_id'].nunique()"
   ]
  },
  {
   "cell_type": "code",
   "execution_count": 511,
   "id": "bdb5ee58-7c21-4524-919c-2f6ab95d7c66",
   "metadata": {},
   "outputs": [],
   "source": [
    "orders_by_department_bar = pd.merge(orders_by_department, df_dep, on = 'department_id').sort_values(by = 'order_id', ascending = True)"
   ]
  },
  {
   "cell_type": "code",
   "execution_count": 512,
   "id": "bd6cd7c2-4961-4e96-af77-56643a77a71e",
   "metadata": {},
   "outputs": [
    {
     "data": {
      "image/png": "[encoded data removed]",
      "text/plain": [
       "<Figure size 640x480 with 1 Axes>"
      ]
     },
     "metadata": {},
     "output_type": "display_data"
    }
   ],
   "source": [
    "plt.barh(orders_by_department_bar['department'], orders_by_department_bar['order_id'])\n",
    "plt.title('Order Count by Department')\n",
    "plt.savefig(os.path.join(project_path, '04 Analysis', 'Visualizations', 'order_count_by_department.png'))"
   ]
  },
  {
   "cell_type": "markdown",
   "id": "62ad0092-ef2a-420a-873e-ae6b7149dd84",
   "metadata": {
    "jp-MarkdownHeadingCollapsed": true
   },
   "source": [
    "### Key Question 5: What's the distribution among users in regards to their brand loyalty? (i.e, how often do they return to Instacart?)"
   ]
  },
  {
   "cell_type": "code",
   "execution_count": 513,
   "id": "6e1b4150-a8c1-4ce5-8b9c-41c5ea14996a",
   "metadata": {},
   "outputs": [],
   "source": [
    "users_by_loyalty = df_2.groupby('loyalty_flag')['user_id'].nunique()"
   ]
  },
  {
   "cell_type": "code",
   "execution_count": 526,
   "id": "4ff99567-c760-4618-8fd1-2e1ecf075162",
   "metadata": {},
   "outputs": [
    {
     "data": {
      "image/png": "[encoded data removed]",
      "text/plain": [
       "<Figure size 640x480 with 1 Axes>"
      ]
     },
     "metadata": {},
     "output_type": "display_data"
    }
   ],
   "source": [
    "users_by_loyalty.plot(\n",
    "    kind = 'barh',\n",
    "    title = 'User count by Loyalty Flag',\n",
    "    ylabel = ''\n",
    ")\n",
    "plt.tight_layout() # adjustment to see y label\n",
    "plt.savefig(os.path.join(project_path, '04 Analysis', 'Visualizations', 'user_count_by_loyalty.png'))"
   ]
  },
  {
   "cell_type": "markdown",
   "id": "8e31e77c-94fd-4d44-b1e0-e9049ff4fb6e",
   "metadata": {
    "jp-MarkdownHeadingCollapsed": true
   },
   "source": [
    "### Key Question 6: Are there differences in ordering habits based on a customer's loyalty status?"
   ]
  },
  {
   "cell_type": "code",
   "execution_count": 530,
   "id": "a92490cb-3834-4399-9a27-a0fa3d0eb038",
   "metadata": {},
   "outputs": [],
   "source": [
    "order_frequency_by_loyalty = df_2.groupby('loyalty_flag').agg(median_order_frequency=('days_since_prior_order', 'median'))"
   ]
  },
  {
   "cell_type": "code",
   "execution_count": 536,
   "id": "111909b1-3ce2-4601-a5de-259526c1bf76",
   "metadata": {},
   "outputs": [
    {
     "data": {
      "text/plain": [
       "<Axes: title={'center': 'Average days between order by loyalty'}, ylabel='loyalty_flag'>"
      ]
     },
     "execution_count": 536,
     "metadata": {},
     "output_type": "execute_result"
    },
    {
     "data": {
      "image/png": "[encoded data removed]",
      "text/plain": [
       "<Figure size 640x480 with 1 Axes>"
      ]
     },
     "metadata": {},
     "output_type": "display_data"
    }
   ],
   "source": [
    "order_frequency_by_loyalty.plot(\n",
    "    kind = 'barh',\n",
    "    title = 'Average days between order by loyalty',\n",
    "    ylabel = ''\n",
    ")"
   ]
  },
  {
   "cell_type": "code",
   "execution_count": 542,
   "id": "b7a86371-c3ee-40e3-9807-0bddc1efb791",
   "metadata": {},
   "outputs": [
    {
     "data": {
      "text/html": [
       "<div>\n",
       "<style scoped>\n",
       "    .dataframe tbody tr th:only-of-type {\n",
       "        vertical-align: middle;\n",
       "    }\n",
       "\n",
       "    .dataframe tbody tr th {\n",
       "        vertical-align: top;\n",
       "    }\n",
       "\n",
       "    .dataframe thead th {\n",
       "        text-align: right;\n",
       "    }\n",
       "</style>\n",
       "<table border=\"1\" class=\"dataframe\">\n",
       "  <thead>\n",
       "    <tr style=\"text-align: right;\">\n",
       "      <th></th>\n",
       "      <th>median_order_frequency</th>\n",
       "    </tr>\n",
       "    <tr>\n",
       "      <th>loyalty_flag</th>\n",
       "      <th></th>\n",
       "    </tr>\n",
       "  </thead>\n",
       "  <tbody>\n",
       "    <tr>\n",
       "      <th>Loyal customer</th>\n",
       "      <td>5.0</td>\n",
       "    </tr>\n",
       "    <tr>\n",
       "      <th>Regular customer</th>\n",
       "      <td>9.0</td>\n",
       "    </tr>\n",
       "    <tr>\n",
       "      <th>New customer</th>\n",
       "      <td>16.0</td>\n",
       "    </tr>\n",
       "  </tbody>\n",
       "</table>\n",
       "</div>"
      ],
      "text/plain": [
       "                  median_order_frequency\n",
       "loyalty_flag                            \n",
       "Loyal customer                       5.0\n",
       "Regular customer                     9.0\n",
       "New customer                        16.0"
      ]
     },
     "execution_count": 542,
     "metadata": {},
     "output_type": "execute_result"
    }
   ],
   "source": [
    "order_frequency_by_loyalty.sort_values(by = 'median_order_frequency', ascending = True)"
   ]
  },
  {
   "cell_type": "markdown",
   "id": "2a36e63a-0953-4a2d-9984-a7c3b0457e08",
   "metadata": {
    "jp-MarkdownHeadingCollapsed": true
   },
   "source": [
    "### Key Qustion 7: Are there differences in ordering habits based on a customer's region?"
   ]
  },
  {
   "cell_type": "code",
   "execution_count": 567,
   "id": "ea848bb0-85c1-4424-81a2-df20b490b5e0",
   "metadata": {},
   "outputs": [],
   "source": [
    "region_order_frequency = df_2.groupby(['region', 'price_range_loc']).agg(\n",
    "    order_frequency=('days_since_prior_order', 'mean')\n",
    ").reset_index()"
   ]
  },
  {
   "cell_type": "code",
   "execution_count": 568,
   "id": "98579223-8540-4528-a251-1b93fee88d72",
   "metadata": {},
   "outputs": [
    {
     "data": {
      "text/html": [
       "<div>\n",
       "<style scoped>\n",
       "    .dataframe tbody tr th:only-of-type {\n",
       "        vertical-align: middle;\n",
       "    }\n",
       "\n",
       "    .dataframe tbody tr th {\n",
       "        vertical-align: top;\n",
       "    }\n",
       "\n",
       "    .dataframe thead th {\n",
       "        text-align: right;\n",
       "    }\n",
       "</style>\n",
       "<table border=\"1\" class=\"dataframe\">\n",
       "  <thead>\n",
       "    <tr style=\"text-align: right;\">\n",
       "      <th></th>\n",
       "      <th>region</th>\n",
       "      <th>price_range_loc</th>\n",
       "      <th>order_frequency</th>\n",
       "    </tr>\n",
       "  </thead>\n",
       "  <tbody>\n",
       "    <tr>\n",
       "      <th>0</th>\n",
       "      <td>Midwest</td>\n",
       "      <td>High-range product</td>\n",
       "      <td>11.239717</td>\n",
       "    </tr>\n",
       "    <tr>\n",
       "      <th>1</th>\n",
       "      <td>Midwest</td>\n",
       "      <td>Low-range product</td>\n",
       "      <td>10.894095</td>\n",
       "    </tr>\n",
       "    <tr>\n",
       "      <th>2</th>\n",
       "      <td>Midwest</td>\n",
       "      <td>Mid-range product</td>\n",
       "      <td>10.885523</td>\n",
       "    </tr>\n",
       "    <tr>\n",
       "      <th>3</th>\n",
       "      <td>Northeast</td>\n",
       "      <td>High-range product</td>\n",
       "      <td>11.114605</td>\n",
       "    </tr>\n",
       "    <tr>\n",
       "      <th>4</th>\n",
       "      <td>Northeast</td>\n",
       "      <td>Low-range product</td>\n",
       "      <td>10.785671</td>\n",
       "    </tr>\n",
       "    <tr>\n",
       "      <th>5</th>\n",
       "      <td>Northeast</td>\n",
       "      <td>Mid-range product</td>\n",
       "      <td>10.762462</td>\n",
       "    </tr>\n",
       "    <tr>\n",
       "      <th>6</th>\n",
       "      <td>South</td>\n",
       "      <td>High-range product</td>\n",
       "      <td>11.147677</td>\n",
       "    </tr>\n",
       "    <tr>\n",
       "      <th>7</th>\n",
       "      <td>South</td>\n",
       "      <td>Low-range product</td>\n",
       "      <td>10.818489</td>\n",
       "    </tr>\n",
       "    <tr>\n",
       "      <th>8</th>\n",
       "      <td>South</td>\n",
       "      <td>Mid-range product</td>\n",
       "      <td>10.805914</td>\n",
       "    </tr>\n",
       "    <tr>\n",
       "      <th>9</th>\n",
       "      <td>West</td>\n",
       "      <td>High-range product</td>\n",
       "      <td>11.016448</td>\n",
       "    </tr>\n",
       "    <tr>\n",
       "      <th>10</th>\n",
       "      <td>West</td>\n",
       "      <td>Low-range product</td>\n",
       "      <td>10.759739</td>\n",
       "    </tr>\n",
       "    <tr>\n",
       "      <th>11</th>\n",
       "      <td>West</td>\n",
       "      <td>Mid-range product</td>\n",
       "      <td>10.747251</td>\n",
       "    </tr>\n",
       "  </tbody>\n",
       "</table>\n",
       "</div>"
      ],
      "text/plain": [
       "       region     price_range_loc  order_frequency\n",
       "0     Midwest  High-range product        11.239717\n",
       "1     Midwest   Low-range product        10.894095\n",
       "2     Midwest   Mid-range product        10.885523\n",
       "3   Northeast  High-range product        11.114605\n",
       "4   Northeast   Low-range product        10.785671\n",
       "5   Northeast   Mid-range product        10.762462\n",
       "6       South  High-range product        11.147677\n",
       "7       South   Low-range product        10.818489\n",
       "8       South   Mid-range product        10.805914\n",
       "9        West  High-range product        11.016448\n",
       "10       West   Low-range product        10.759739\n",
       "11       West   Mid-range product        10.747251"
      ]
     },
     "execution_count": 568,
     "metadata": {},
     "output_type": "execute_result"
    }
   ],
   "source": [
    "region_order_frequency"
   ]
  },
  {
   "cell_type": "code",
   "execution_count": 571,
   "id": "6fa85044-e5d6-476d-b14d-d4c57e9b5afd",
   "metadata": {},
   "outputs": [],
   "source": [
    "region_order_frequency = region_order_frequency.pivot(index = 'region', columns = 'price_range_loc', values = 'order_frequency')"
   ]
  },
  {
   "cell_type": "code",
   "execution_count": 577,
   "id": "512444bd-517d-479e-b573-10bcb2c3b926",
   "metadata": {},
   "outputs": [
    {
     "data": {
      "image/png": "[encoded data removed]",
      "text/plain": [
       "<Figure size 640x480 with 1 Axes>"
      ]
     },
     "metadata": {},
     "output_type": "display_data"
    }
   ],
   "source": [
    "region_order_frequency.plot(\n",
    "    kind = 'barh',\n",
    "    stacked = True,\n",
    "    title = 'order frequency by region and product type'\n",
    ")\n",
    "plt.savefig(os.path.join(project_path, '04 Analysis', 'Visualizations', 'region_order_frequency.png'))"
   ]
  },
  {
   "cell_type": "markdown",
   "id": "4bca8218-bb01-4ed7-81ad-578a380d761b",
   "metadata": {},
   "source": [
    "### Key Question 8: Is there a connection betrween age and family status in terms of ordering habits? "
   ]
  },
  {
   "cell_type": "code",
   "execution_count": 597,
   "id": "5694ef9d-751f-4d3d-9890-f750dd625681",
   "metadata": {},
   "outputs": [],
   "source": [
    "single_adults_order_frequency = df_2.groupby('single_adult').agg(order_frequency = ('days_since_prior_order', 'mean')).reset_index()"
   ]
  },
  {
   "cell_type": "code",
   "execution_count": 599,
   "id": "0ddde402-ef33-4f25-a46e-6182e4974828",
   "metadata": {},
   "outputs": [
    {
     "data": {
      "text/html": [
       "<div>\n",
       "<style scoped>\n",
       "    .dataframe tbody tr th:only-of-type {\n",
       "        vertical-align: middle;\n",
       "    }\n",
       "\n",
       "    .dataframe tbody tr th {\n",
       "        vertical-align: top;\n",
       "    }\n",
       "\n",
       "    .dataframe thead th {\n",
       "        text-align: right;\n",
       "    }\n",
       "</style>\n",
       "<table border=\"1\" class=\"dataframe\">\n",
       "  <thead>\n",
       "    <tr style=\"text-align: right;\">\n",
       "      <th></th>\n",
       "      <th>single_adult</th>\n",
       "      <th>order_frequency</th>\n",
       "    </tr>\n",
       "  </thead>\n",
       "  <tbody>\n",
       "    <tr>\n",
       "      <th>0</th>\n",
       "      <td>N</td>\n",
       "      <td>10.809656</td>\n",
       "    </tr>\n",
       "    <tr>\n",
       "      <th>1</th>\n",
       "      <td>Y</td>\n",
       "      <td>10.813571</td>\n",
       "    </tr>\n",
       "  </tbody>\n",
       "</table>\n",
       "</div>"
      ],
      "text/plain": [
       "  single_adult  order_frequency\n",
       "0            N        10.809656\n",
       "1            Y        10.813571"
      ]
     },
     "execution_count": 599,
     "metadata": {},
     "output_type": "execute_result"
    }
   ],
   "source": [
    "single_adults_order_frequency"
   ]
  },
  {
   "cell_type": "code",
   "execution_count": 603,
   "id": "d26fa5a9-59ba-4543-8047-3f0f10803eae",
   "metadata": {},
   "outputs": [
    {
     "data": {
      "image/png": "[encoded data removed]",
      "text/plain": [
       "<Figure size 640x480 with 1 Axes>"
      ]
     },
     "metadata": {},
     "output_type": "display_data"
    }
   ],
   "source": [
    "single_adults_order_frequency.plot(\n",
    "    kind = 'barh',\n",
    "    title = 'order frequency of single adult vs others'\n",
    ")\n",
    "plt.savefig(os.path.join(project_path, '04 Analysis', 'Visualizations', 'single_adult_order_frequency.png'))"
   ]
  },
  {
   "cell_type": "markdown",
   "id": "b06d4d65-1e59-4dce-9c3f-227d0250141a",
   "metadata": {},
   "source": [
    "### Key Question 10: What differences can you find in ordering habits of different customer profiles? Consider the price of orders, the frequency of orders, the products customers are ordering, and anything else you can think of"
   ]
  },
  {
   "cell_type": "code",
   "execution_count": 1033,
   "id": "cb0a40e1-69ce-4cd5-a206-1588b8bcd222",
   "metadata": {},
   "outputs": [],
   "source": [
    "department_price_range = df_2.groupby(['department_id','price_range_loc'])['product_id'].nunique().reset_index()"
   ]
  },
  {
   "cell_type": "code",
   "execution_count": 1034,
   "id": "59143756-e661-4f50-80a1-8c90ce8e6876",
   "metadata": {},
   "outputs": [],
   "source": [
    "department_price_low_range = department_price_range[department_price_range['price_range_loc'] == 'Low-range product'].sort_values(by = 'product_id')"
   ]
  },
  {
   "cell_type": "code",
   "execution_count": 1037,
   "id": "85f308fd-7b4a-426b-8b83-2e7a108fb51e",
   "metadata": {},
   "outputs": [],
   "source": [
    "department_price_low_range = department_price_low_range.head(5).merge(df_dep, on = 'department_id')"
   ]
  },
  {
   "cell_type": "code",
   "execution_count": 1039,
   "id": "ef695170-0154-415e-ba59-757699b8c439",
   "metadata": {},
   "outputs": [
    {
     "data": {
      "text/html": [
       "<div>\n",
       "<style scoped>\n",
       "    .dataframe tbody tr th:only-of-type {\n",
       "        vertical-align: middle;\n",
       "    }\n",
       "\n",
       "    .dataframe tbody tr th {\n",
       "        vertical-align: top;\n",
       "    }\n",
       "\n",
       "    .dataframe thead th {\n",
       "        text-align: right;\n",
       "    }\n",
       "</style>\n",
       "<table border=\"1\" class=\"dataframe\">\n",
       "  <thead>\n",
       "    <tr style=\"text-align: right;\">\n",
       "      <th></th>\n",
       "      <th>department_id</th>\n",
       "      <th>price_range_loc</th>\n",
       "      <th>product_id</th>\n",
       "      <th>department</th>\n",
       "    </tr>\n",
       "  </thead>\n",
       "  <tbody>\n",
       "    <tr>\n",
       "      <th>0</th>\n",
       "      <td>10</td>\n",
       "      <td>Low-range product</td>\n",
       "      <td>6</td>\n",
       "      <td>bulk</td>\n",
       "    </tr>\n",
       "    <tr>\n",
       "      <th>1</th>\n",
       "      <td>2</td>\n",
       "      <td>Low-range product</td>\n",
       "      <td>165</td>\n",
       "      <td>other</td>\n",
       "    </tr>\n",
       "    <tr>\n",
       "      <th>2</th>\n",
       "      <td>8</td>\n",
       "      <td>Low-range product</td>\n",
       "      <td>280</td>\n",
       "      <td>pets</td>\n",
       "    </tr>\n",
       "    <tr>\n",
       "      <th>3</th>\n",
       "      <td>5</td>\n",
       "      <td>Low-range product</td>\n",
       "      <td>294</td>\n",
       "      <td>alcohol</td>\n",
       "    </tr>\n",
       "    <tr>\n",
       "      <th>4</th>\n",
       "      <td>18</td>\n",
       "      <td>Low-range product</td>\n",
       "      <td>299</td>\n",
       "      <td>babies</td>\n",
       "    </tr>\n",
       "  </tbody>\n",
       "</table>\n",
       "</div>"
      ],
      "text/plain": [
       "   department_id    price_range_loc  product_id department\n",
       "0             10  Low-range product           6       bulk\n",
       "1              2  Low-range product         165      other\n",
       "2              8  Low-range product         280       pets\n",
       "3              5  Low-range product         294    alcohol\n",
       "4             18  Low-range product         299     babies"
      ]
     },
     "execution_count": 1039,
     "metadata": {},
     "output_type": "execute_result"
    }
   ],
   "source": [
    "department_price_low_range"
   ]
  },
  {
   "cell_type": "code",
   "execution_count": 1045,
   "id": "171189c3-0a52-49c3-b3b4-f318f8ba6692",
   "metadata": {},
   "outputs": [],
   "source": [
    "department_price_low_range = department_price_low_range[['department', 'product_id']].sort_values(by = 'product_id', ascending = False).reset_index(drop = True)"
   ]
  },
  {
   "cell_type": "code",
   "execution_count": 1047,
   "id": "9735b654-956c-401f-bd51-d93275576826",
   "metadata": {},
   "outputs": [
    {
     "data": {
      "text/html": [
       "<div>\n",
       "<style scoped>\n",
       "    .dataframe tbody tr th:only-of-type {\n",
       "        vertical-align: middle;\n",
       "    }\n",
       "\n",
       "    .dataframe tbody tr th {\n",
       "        vertical-align: top;\n",
       "    }\n",
       "\n",
       "    .dataframe thead th {\n",
       "        text-align: right;\n",
       "    }\n",
       "</style>\n",
       "<table border=\"1\" class=\"dataframe\">\n",
       "  <thead>\n",
       "    <tr style=\"text-align: right;\">\n",
       "      <th></th>\n",
       "      <th>department</th>\n",
       "      <th>product_id</th>\n",
       "    </tr>\n",
       "  </thead>\n",
       "  <tbody>\n",
       "    <tr>\n",
       "      <th>0</th>\n",
       "      <td>babies</td>\n",
       "      <td>299</td>\n",
       "    </tr>\n",
       "    <tr>\n",
       "      <th>1</th>\n",
       "      <td>alcohol</td>\n",
       "      <td>294</td>\n",
       "    </tr>\n",
       "    <tr>\n",
       "      <th>2</th>\n",
       "      <td>pets</td>\n",
       "      <td>280</td>\n",
       "    </tr>\n",
       "    <tr>\n",
       "      <th>3</th>\n",
       "      <td>other</td>\n",
       "      <td>165</td>\n",
       "    </tr>\n",
       "    <tr>\n",
       "      <th>4</th>\n",
       "      <td>bulk</td>\n",
       "      <td>6</td>\n",
       "    </tr>\n",
       "  </tbody>\n",
       "</table>\n",
       "</div>"
      ],
      "text/plain": [
       "  department  product_id\n",
       "0     babies         299\n",
       "1    alcohol         294\n",
       "2       pets         280\n",
       "3      other         165\n",
       "4       bulk           6"
      ]
     },
     "execution_count": 1047,
     "metadata": {},
     "output_type": "execute_result"
    }
   ],
   "source": [
    "department_price_low_range"
   ]
  },
  {
   "cell_type": "code",
   "execution_count": 1051,
   "id": "4d8e968e-00b8-448e-b7de-a2598fda8bac",
   "metadata": {},
   "outputs": [],
   "source": [
    "department_price_low_range.set_index('department', inplace = True)"
   ]
  },
  {
   "cell_type": "code",
   "execution_count": 1053,
   "id": "a02e4993-31f4-48bb-a6ea-364d12e3b99f",
   "metadata": {},
   "outputs": [
    {
     "data": {
      "text/html": [
       "<div>\n",
       "<style scoped>\n",
       "    .dataframe tbody tr th:only-of-type {\n",
       "        vertical-align: middle;\n",
       "    }\n",
       "\n",
       "    .dataframe tbody tr th {\n",
       "        vertical-align: top;\n",
       "    }\n",
       "\n",
       "    .dataframe thead th {\n",
       "        text-align: right;\n",
       "    }\n",
       "</style>\n",
       "<table border=\"1\" class=\"dataframe\">\n",
       "  <thead>\n",
       "    <tr style=\"text-align: right;\">\n",
       "      <th></th>\n",
       "      <th>product_id</th>\n",
       "    </tr>\n",
       "    <tr>\n",
       "      <th>department</th>\n",
       "      <th></th>\n",
       "    </tr>\n",
       "  </thead>\n",
       "  <tbody>\n",
       "    <tr>\n",
       "      <th>babies</th>\n",
       "      <td>299</td>\n",
       "    </tr>\n",
       "    <tr>\n",
       "      <th>alcohol</th>\n",
       "      <td>294</td>\n",
       "    </tr>\n",
       "    <tr>\n",
       "      <th>pets</th>\n",
       "      <td>280</td>\n",
       "    </tr>\n",
       "    <tr>\n",
       "      <th>other</th>\n",
       "      <td>165</td>\n",
       "    </tr>\n",
       "    <tr>\n",
       "      <th>bulk</th>\n",
       "      <td>6</td>\n",
       "    </tr>\n",
       "  </tbody>\n",
       "</table>\n",
       "</div>"
      ],
      "text/plain": [
       "            product_id\n",
       "department            \n",
       "babies             299\n",
       "alcohol            294\n",
       "pets               280\n",
       "other              165\n",
       "bulk                 6"
      ]
     },
     "execution_count": 1053,
     "metadata": {},
     "output_type": "execute_result"
    }
   ],
   "source": [
    "department_price_low_range"
   ]
  },
  {
   "cell_type": "code",
   "execution_count": 1055,
   "id": "beb5f55e-0a5c-4454-a0e3-bcc3f6ecdde9",
   "metadata": {},
   "outputs": [
    {
     "data": {
      "image/png": "[encoded data removed]",
      "text/plain": [
       "<Figure size 640x480 with 1 Axes>"
      ]
     },
     "metadata": {},
     "output_type": "display_data"
    }
   ],
   "source": [
    "department_price_low_range.plot(\n",
    "    kind = 'barh',\n",
    "    title = 'Bottom 5 departments with low-range products',\n",
    "    ylabel = '',\n",
    "    legend = False\n",
    ")\n",
    "plt.savefig(os.path.join(project_path, '04 Analysis', 'Visualizations', 'bottom_5_departments.png'))"
   ]
  },
  {
   "cell_type": "code",
   "execution_count": 1057,
   "id": "a3894eb7-582c-40ce-ad0d-0ad0d5c8d0ba",
   "metadata": {},
   "outputs": [],
   "source": [
    "department_price_high_range = department_price_range[department_price_range['price_range_loc'] == 'High-range product'].sort_values(by = 'product_id')"
   ]
  },
  {
   "cell_type": "code",
   "execution_count": 1059,
   "id": "cdd301dd-5ffe-4303-9bcb-53f3de693870",
   "metadata": {},
   "outputs": [],
   "source": [
    "department_price_high_range = department_price_high_range.head(5).merge(df_dep, on = 'department_id')"
   ]
  },
  {
   "cell_type": "code",
   "execution_count": 1061,
   "id": "6956b00e-463e-420f-9749-992b2f1e838a",
   "metadata": {},
   "outputs": [
    {
     "data": {
      "text/html": [
       "<div>\n",
       "<style scoped>\n",
       "    .dataframe tbody tr th:only-of-type {\n",
       "        vertical-align: middle;\n",
       "    }\n",
       "\n",
       "    .dataframe tbody tr th {\n",
       "        vertical-align: top;\n",
       "    }\n",
       "\n",
       "    .dataframe thead th {\n",
       "        text-align: right;\n",
       "    }\n",
       "</style>\n",
       "<table border=\"1\" class=\"dataframe\">\n",
       "  <thead>\n",
       "    <tr style=\"text-align: right;\">\n",
       "      <th></th>\n",
       "      <th>department_id</th>\n",
       "      <th>price_range_loc</th>\n",
       "      <th>product_id</th>\n",
       "      <th>department</th>\n",
       "    </tr>\n",
       "  </thead>\n",
       "  <tbody>\n",
       "    <tr>\n",
       "      <th>0</th>\n",
       "      <td>13</td>\n",
       "      <td>High-range product</td>\n",
       "      <td>1</td>\n",
       "      <td>pantry</td>\n",
       "    </tr>\n",
       "    <tr>\n",
       "      <th>1</th>\n",
       "      <td>16</td>\n",
       "      <td>High-range product</td>\n",
       "      <td>2</td>\n",
       "      <td>dairy eggs</td>\n",
       "    </tr>\n",
       "    <tr>\n",
       "      <th>2</th>\n",
       "      <td>12</td>\n",
       "      <td>High-range product</td>\n",
       "      <td>544</td>\n",
       "      <td>meat seafood</td>\n",
       "    </tr>\n",
       "  </tbody>\n",
       "</table>\n",
       "</div>"
      ],
      "text/plain": [
       "   department_id     price_range_loc  product_id    department\n",
       "0             13  High-range product           1        pantry\n",
       "1             16  High-range product           2    dairy eggs\n",
       "2             12  High-range product         544  meat seafood"
      ]
     },
     "execution_count": 1061,
     "metadata": {},
     "output_type": "execute_result"
    }
   ],
   "source": [
    "department_price_high_range"
   ]
  },
  {
   "cell_type": "code",
   "execution_count": 1045,
   "id": "f152a46e-8087-4a26-8e70-5bb1f005e1b5",
   "metadata": {},
   "outputs": [],
   "source": [
    "department_price_high_range = department_price_high_range[['department', 'product_id']].sort_values(by = 'product_id', ascending = False).reset_index(drop = True)"
   ]
  },
  {
   "cell_type": "code",
   "execution_count": 1047,
   "id": "480495b4-f60d-4da5-a9ea-f149c0227632",
   "metadata": {},
   "outputs": [
    {
     "data": {
      "text/html": [
       "<div>\n",
       "<style scoped>\n",
       "    .dataframe tbody tr th:only-of-type {\n",
       "        vertical-align: middle;\n",
       "    }\n",
       "\n",
       "    .dataframe tbody tr th {\n",
       "        vertical-align: top;\n",
       "    }\n",
       "\n",
       "    .dataframe thead th {\n",
       "        text-align: right;\n",
       "    }\n",
       "</style>\n",
       "<table border=\"1\" class=\"dataframe\">\n",
       "  <thead>\n",
       "    <tr style=\"text-align: right;\">\n",
       "      <th></th>\n",
       "      <th>department</th>\n",
       "      <th>product_id</th>\n",
       "    </tr>\n",
       "  </thead>\n",
       "  <tbody>\n",
       "    <tr>\n",
       "      <th>0</th>\n",
       "      <td>babies</td>\n",
       "      <td>299</td>\n",
       "    </tr>\n",
       "    <tr>\n",
       "      <th>1</th>\n",
       "      <td>alcohol</td>\n",
       "      <td>294</td>\n",
       "    </tr>\n",
       "    <tr>\n",
       "      <th>2</th>\n",
       "      <td>pets</td>\n",
       "      <td>280</td>\n",
       "    </tr>\n",
       "    <tr>\n",
       "      <th>3</th>\n",
       "      <td>other</td>\n",
       "      <td>165</td>\n",
       "    </tr>\n",
       "    <tr>\n",
       "      <th>4</th>\n",
       "      <td>bulk</td>\n",
       "      <td>6</td>\n",
       "    </tr>\n",
       "  </tbody>\n",
       "</table>\n",
       "</div>"
      ],
      "text/plain": [
       "  department  product_id\n",
       "0     babies         299\n",
       "1    alcohol         294\n",
       "2       pets         280\n",
       "3      other         165\n",
       "4       bulk           6"
      ]
     },
     "execution_count": 1047,
     "metadata": {},
     "output_type": "execute_result"
    }
   ],
   "source": [
    "department_price_high_range"
   ]
  },
  {
   "cell_type": "code",
   "execution_count": 1051,
   "id": "30ef35ef-2bf3-49c8-a6d4-063a1e6485ed",
   "metadata": {},
   "outputs": [],
   "source": [
    "department_price_high_range.set_index('department', inplace = True)"
   ]
  },
  {
   "cell_type": "code",
   "execution_count": 1053,
   "id": "f8107ef5-27fe-4b4e-a986-5fe62f01eb15",
   "metadata": {},
   "outputs": [
    {
     "data": {
      "text/html": [
       "<div>\n",
       "<style scoped>\n",
       "    .dataframe tbody tr th:only-of-type {\n",
       "        vertical-align: middle;\n",
       "    }\n",
       "\n",
       "    .dataframe tbody tr th {\n",
       "        vertical-align: top;\n",
       "    }\n",
       "\n",
       "    .dataframe thead th {\n",
       "        text-align: right;\n",
       "    }\n",
       "</style>\n",
       "<table border=\"1\" class=\"dataframe\">\n",
       "  <thead>\n",
       "    <tr style=\"text-align: right;\">\n",
       "      <th></th>\n",
       "      <th>product_id</th>\n",
       "    </tr>\n",
       "    <tr>\n",
       "      <th>department</th>\n",
       "      <th></th>\n",
       "    </tr>\n",
       "  </thead>\n",
       "  <tbody>\n",
       "    <tr>\n",
       "      <th>babies</th>\n",
       "      <td>299</td>\n",
       "    </tr>\n",
       "    <tr>\n",
       "      <th>alcohol</th>\n",
       "      <td>294</td>\n",
       "    </tr>\n",
       "    <tr>\n",
       "      <th>pets</th>\n",
       "      <td>280</td>\n",
       "    </tr>\n",
       "    <tr>\n",
       "      <th>other</th>\n",
       "      <td>165</td>\n",
       "    </tr>\n",
       "    <tr>\n",
       "      <th>bulk</th>\n",
       "      <td>6</td>\n",
       "    </tr>\n",
       "  </tbody>\n",
       "</table>\n",
       "</div>"
      ],
      "text/plain": [
       "            product_id\n",
       "department            \n",
       "babies             299\n",
       "alcohol            294\n",
       "pets               280\n",
       "other              165\n",
       "bulk                 6"
      ]
     },
     "execution_count": 1053,
     "metadata": {},
     "output_type": "execute_result"
    }
   ],
   "source": [
    "department_price_high_range"
   ]
  },
  {
   "cell_type": "code",
   "execution_count": 1055,
   "id": "51a91b2c-4a1d-44b8-bb10-e73decc0ba61",
   "metadata": {},
   "outputs": [
    {
     "data": {
      "image/png": "[encoded data removed]",
      "text/plain": [
       "<Figure size 640x480 with 1 Axes>"
      ]
     },
     "metadata": {},
     "output_type": "display_data"
    }
   ],
   "source": [
    "department_price_high_range.plot(\n",
    "    kind = 'barh',\n",
    "    title = 'Bottom 5 departments with low-range products',\n",
    "    ylabel = '',\n",
    "    legend = False\n",
    ")\n",
    "plt.savefig(os.path.join(project_path, '04 Analysis', 'Visualizations', 'bottom_5_departments.png'))"
   ]
  },
  {
   "cell_type": "code",
   "execution_count": 1067,
   "id": "6bb161d3-7cb1-40e9-b12c-c1b5e27e288c",
   "metadata": {},
   "outputs": [],
   "source": [
    "department_high_income = df_2[df_2['income_group'] == 'High']"
   ]
  },
  {
   "cell_type": "code",
   "execution_count": 1081,
   "id": "a500b0d5-b873-468e-ad53-a070fc8d55d4",
   "metadata": {},
   "outputs": [],
   "source": [
    "department_high_income_2 = department_high_income.groupby(['department_id']).agg(total_sales = ('prices', 'sum')).reset_index()"
   ]
  },
  {
   "cell_type": "code",
   "execution_count": 1085,
   "id": "62d25ce8-582d-468c-8ad2-55a5672ece04",
   "metadata": {},
   "outputs": [
    {
     "data": {
      "text/html": [
       "<div>\n",
       "<style scoped>\n",
       "    .dataframe tbody tr th:only-of-type {\n",
       "        vertical-align: middle;\n",
       "    }\n",
       "\n",
       "    .dataframe tbody tr th {\n",
       "        vertical-align: top;\n",
       "    }\n",
       "\n",
       "    .dataframe thead th {\n",
       "        text-align: right;\n",
       "    }\n",
       "</style>\n",
       "<table border=\"1\" class=\"dataframe\">\n",
       "  <thead>\n",
       "    <tr style=\"text-align: right;\">\n",
       "      <th></th>\n",
       "      <th>department_id</th>\n",
       "      <th>total_sales</th>\n",
       "    </tr>\n",
       "  </thead>\n",
       "  <tbody>\n",
       "    <tr>\n",
       "      <th>1</th>\n",
       "      <td>2</td>\n",
       "      <td>114385.2</td>\n",
       "    </tr>\n",
       "    <tr>\n",
       "      <th>9</th>\n",
       "      <td>10</td>\n",
       "      <td>121503.2</td>\n",
       "    </tr>\n",
       "    <tr>\n",
       "      <th>20</th>\n",
       "      <td>21</td>\n",
       "      <td>257469.9</td>\n",
       "    </tr>\n",
       "    <tr>\n",
       "      <th>7</th>\n",
       "      <td>8</td>\n",
       "      <td>358784.3</td>\n",
       "    </tr>\n",
       "    <tr>\n",
       "      <th>4</th>\n",
       "      <td>5</td>\n",
       "      <td>576290.4</td>\n",
       "    </tr>\n",
       "    <tr>\n",
       "      <th>5</th>\n",
       "      <td>6</td>\n",
       "      <td>930768.3</td>\n",
       "    </tr>\n",
       "    <tr>\n",
       "      <th>17</th>\n",
       "      <td>18</td>\n",
       "      <td>1510448.4</td>\n",
       "    </tr>\n",
       "    <tr>\n",
       "      <th>10</th>\n",
       "      <td>11</td>\n",
       "      <td>1563992.0</td>\n",
       "    </tr>\n",
       "    <tr>\n",
       "      <th>16</th>\n",
       "      <td>17</td>\n",
       "      <td>2389871.7</td>\n",
       "    </tr>\n",
       "    <tr>\n",
       "      <th>13</th>\n",
       "      <td>14</td>\n",
       "      <td>2441414.4</td>\n",
       "    </tr>\n",
       "    <tr>\n",
       "      <th>8</th>\n",
       "      <td>9</td>\n",
       "      <td>2910908.4</td>\n",
       "    </tr>\n",
       "    <tr>\n",
       "      <th>19</th>\n",
       "      <td>20</td>\n",
       "      <td>3664100.1</td>\n",
       "    </tr>\n",
       "    <tr>\n",
       "      <th>14</th>\n",
       "      <td>15</td>\n",
       "      <td>3682783.5</td>\n",
       "    </tr>\n",
       "    <tr>\n",
       "      <th>2</th>\n",
       "      <td>3</td>\n",
       "      <td>4196868.9</td>\n",
       "    </tr>\n",
       "    <tr>\n",
       "      <th>18</th>\n",
       "      <td>19</td>\n",
       "      <td>4753409.8</td>\n",
       "    </tr>\n",
       "    <tr>\n",
       "      <th>11</th>\n",
       "      <td>12</td>\n",
       "      <td>5499655.8</td>\n",
       "    </tr>\n",
       "    <tr>\n",
       "      <th>12</th>\n",
       "      <td>13</td>\n",
       "      <td>6783675.3</td>\n",
       "    </tr>\n",
       "    <tr>\n",
       "      <th>0</th>\n",
       "      <td>1</td>\n",
       "      <td>7730446.9</td>\n",
       "    </tr>\n",
       "    <tr>\n",
       "      <th>6</th>\n",
       "      <td>7</td>\n",
       "      <td>8883743.2</td>\n",
       "    </tr>\n",
       "    <tr>\n",
       "      <th>3</th>\n",
       "      <td>4</td>\n",
       "      <td>34236310.3</td>\n",
       "    </tr>\n",
       "    <tr>\n",
       "      <th>15</th>\n",
       "      <td>16</td>\n",
       "      <td>141268449.2</td>\n",
       "    </tr>\n",
       "  </tbody>\n",
       "</table>\n",
       "</div>"
      ],
      "text/plain": [
       "    department_id  total_sales\n",
       "1               2     114385.2\n",
       "9              10     121503.2\n",
       "20             21     257469.9\n",
       "7               8     358784.3\n",
       "4               5     576290.4\n",
       "5               6     930768.3\n",
       "17             18    1510448.4\n",
       "10             11    1563992.0\n",
       "16             17    2389871.7\n",
       "13             14    2441414.4\n",
       "8               9    2910908.4\n",
       "19             20    3664100.1\n",
       "14             15    3682783.5\n",
       "2               3    4196868.9\n",
       "18             19    4753409.8\n",
       "11             12    5499655.8\n",
       "12             13    6783675.3\n",
       "0               1    7730446.9\n",
       "6               7    8883743.2\n",
       "3               4   34236310.3\n",
       "15             16  141268449.2"
      ]
     },
     "execution_count": 1085,
     "metadata": {},
     "output_type": "execute_result"
    }
   ],
   "source": [
    "department_high_income_2"
   ]
  },
  {
   "cell_type": "code",
   "execution_count": 1089,
   "id": "e814e764-507d-4afb-8762-00dbd4e8cbe0",
   "metadata": {},
   "outputs": [],
   "source": [
    "department_high_income_3 = department_high_income_2.merge(df_dep, on = 'department_id')"
   ]
  },
  {
   "cell_type": "code",
   "execution_count": 1093,
   "id": "223fc91b-80ae-490d-baf1-8c5f726e4be6",
   "metadata": {},
   "outputs": [],
   "source": [
    "department_high_income_3 = department_high_income_3.drop(columns = 'department_id')"
   ]
  },
  {
   "cell_type": "code",
   "execution_count": 1109,
   "id": "fc6a2468-d25d-4108-98db-ffe8df278202",
   "metadata": {},
   "outputs": [],
   "source": [
    "department_high_income_4 = department_high_income_3.sort_values(by = 'total_sales').head(5)"
   ]
  },
  {
   "cell_type": "code",
   "execution_count": 1117,
   "id": "e0d16921-c1ba-4e0d-950f-0f0e558707f2",
   "metadata": {},
   "outputs": [
    {
     "data": {
      "image/png": "[encoded data removed]",
      "text/plain": [
       "<Figure size 640x480 with 1 Axes>"
      ]
     },
     "metadata": {},
     "output_type": "display_data"
    }
   ],
   "source": [
    "department_high_income_4.plot(\n",
    "    kind = 'barh',\n",
    "    title = 'High income users least purchased departments',\n",
    "    ylabel = '',\n",
    "    legend = False\n",
    ")\n",
    "plt.savefig(os.path.join(project_path, '04 Analysis', 'Visualizations', 'high_income_departments.png'))"
   ]
  },
  {
   "cell_type": "code",
   "execution_count": null,
   "id": "e07de490-7a73-462b-9175-0b54c3975486",
   "metadata": {},
   "outputs": [],
   "source": []
  }
 ],
 "metadata": {
  "kernelspec": {
   "display_name": "Python 3 (ipykernel)",
   "language": "python",
   "name": "python3"
  },
  "language_info": {
   "codemirror_mode": {
    "name": "ipython",
    "version": 3
   },
   "file_extension": ".py",
   "mimetype": "text/x-python",
   "name": "python",
   "nbconvert_exporter": "python",
   "pygments_lexer": "ipython3",
   "version": "3.11.7"
  }
 },
 "nbformat": 4,
 "nbformat_minor": 5
}
